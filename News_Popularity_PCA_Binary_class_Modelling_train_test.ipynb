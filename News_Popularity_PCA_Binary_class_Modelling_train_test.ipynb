{
 "cells": [
  {
   "cell_type": "markdown",
   "metadata": {},
   "source": [
    "# Binary Classification"
   ]
  },
  {
   "cell_type": "markdown",
   "metadata": {},
   "source": [
    "## 1. Reading Data"
   ]
  },
  {
   "cell_type": "code",
   "execution_count": 1,
   "metadata": {},
   "outputs": [],
   "source": [
    "import pandas as pd\n",
    "import numpy as np\n",
    "import matplotlib.pyplot as plt\n",
    "import seaborn as sns\n",
    "import os\n",
    "os.chdir('E:/PGP-DSE/Capstone Project/Group 2/OnlineNewsPopularity')\n",
    "\n",
    "from warnings import simplefilter \n",
    "simplefilter(action='ignore', category=FutureWarning) # ignore all future warnings"
   ]
  },
  {
   "cell_type": "code",
   "execution_count": 2,
   "metadata": {},
   "outputs": [],
   "source": [
    "df = pd.read_csv('ONPClass.csv')"
   ]
  },
  {
   "cell_type": "code",
   "execution_count": 3,
   "metadata": {},
   "outputs": [
    {
     "data": {
      "text/html": [
       "<div>\n",
       "<style scoped>\n",
       "    .dataframe tbody tr th:only-of-type {\n",
       "        vertical-align: middle;\n",
       "    }\n",
       "\n",
       "    .dataframe tbody tr th {\n",
       "        vertical-align: top;\n",
       "    }\n",
       "\n",
       "    .dataframe thead th {\n",
       "        text-align: right;\n",
       "    }\n",
       "</style>\n",
       "<table border=\"1\" class=\"dataframe\">\n",
       "  <thead>\n",
       "    <tr style=\"text-align: right;\">\n",
       "      <th></th>\n",
       "      <th>url</th>\n",
       "      <th>timedelta</th>\n",
       "      <th>n_tokens_title</th>\n",
       "      <th>n_tokens_content</th>\n",
       "      <th>n_unique_tokens</th>\n",
       "      <th>n_non_stop_words</th>\n",
       "      <th>n_non_stop_unique_tokens</th>\n",
       "      <th>num_hrefs</th>\n",
       "      <th>num_self_hrefs</th>\n",
       "      <th>num_imgs</th>\n",
       "      <th>...</th>\n",
       "      <th>min_positive_polarity</th>\n",
       "      <th>max_positive_polarity</th>\n",
       "      <th>avg_negative_polarity</th>\n",
       "      <th>min_negative_polarity</th>\n",
       "      <th>max_negative_polarity</th>\n",
       "      <th>title_subjectivity</th>\n",
       "      <th>title_sentiment_polarity</th>\n",
       "      <th>abs_title_subjectivity</th>\n",
       "      <th>abs_title_sentiment_polarity</th>\n",
       "      <th>class</th>\n",
       "    </tr>\n",
       "  </thead>\n",
       "  <tbody>\n",
       "    <tr>\n",
       "      <td>0</td>\n",
       "      <td>http://mashable.com/2013/01/07/amazon-instant-...</td>\n",
       "      <td>731.0</td>\n",
       "      <td>12.0</td>\n",
       "      <td>219.0</td>\n",
       "      <td>0.663594</td>\n",
       "      <td>1.0</td>\n",
       "      <td>0.815385</td>\n",
       "      <td>4.0</td>\n",
       "      <td>2.0</td>\n",
       "      <td>1.0</td>\n",
       "      <td>...</td>\n",
       "      <td>0.100000</td>\n",
       "      <td>0.7</td>\n",
       "      <td>-0.350000</td>\n",
       "      <td>-0.600</td>\n",
       "      <td>-0.200000</td>\n",
       "      <td>0.500000</td>\n",
       "      <td>-0.187500</td>\n",
       "      <td>0.000000</td>\n",
       "      <td>0.187500</td>\n",
       "      <td>0</td>\n",
       "    </tr>\n",
       "    <tr>\n",
       "      <td>1</td>\n",
       "      <td>http://mashable.com/2013/01/07/ap-samsung-spon...</td>\n",
       "      <td>731.0</td>\n",
       "      <td>9.0</td>\n",
       "      <td>255.0</td>\n",
       "      <td>0.604743</td>\n",
       "      <td>1.0</td>\n",
       "      <td>0.791946</td>\n",
       "      <td>3.0</td>\n",
       "      <td>1.0</td>\n",
       "      <td>1.0</td>\n",
       "      <td>...</td>\n",
       "      <td>0.033333</td>\n",
       "      <td>0.7</td>\n",
       "      <td>-0.118750</td>\n",
       "      <td>-0.125</td>\n",
       "      <td>-0.100000</td>\n",
       "      <td>0.000000</td>\n",
       "      <td>0.000000</td>\n",
       "      <td>0.500000</td>\n",
       "      <td>0.000000</td>\n",
       "      <td>0</td>\n",
       "    </tr>\n",
       "    <tr>\n",
       "      <td>2</td>\n",
       "      <td>http://mashable.com/2013/01/07/apple-40-billio...</td>\n",
       "      <td>731.0</td>\n",
       "      <td>9.0</td>\n",
       "      <td>211.0</td>\n",
       "      <td>0.575130</td>\n",
       "      <td>1.0</td>\n",
       "      <td>0.663866</td>\n",
       "      <td>3.0</td>\n",
       "      <td>1.0</td>\n",
       "      <td>1.0</td>\n",
       "      <td>...</td>\n",
       "      <td>0.100000</td>\n",
       "      <td>1.0</td>\n",
       "      <td>-0.466667</td>\n",
       "      <td>-0.800</td>\n",
       "      <td>-0.133333</td>\n",
       "      <td>0.000000</td>\n",
       "      <td>0.000000</td>\n",
       "      <td>0.500000</td>\n",
       "      <td>0.000000</td>\n",
       "      <td>1</td>\n",
       "    </tr>\n",
       "    <tr>\n",
       "      <td>3</td>\n",
       "      <td>http://mashable.com/2013/01/07/astronaut-notre...</td>\n",
       "      <td>731.0</td>\n",
       "      <td>9.0</td>\n",
       "      <td>531.0</td>\n",
       "      <td>0.503788</td>\n",
       "      <td>1.0</td>\n",
       "      <td>0.665635</td>\n",
       "      <td>9.0</td>\n",
       "      <td>0.0</td>\n",
       "      <td>1.0</td>\n",
       "      <td>...</td>\n",
       "      <td>0.136364</td>\n",
       "      <td>0.8</td>\n",
       "      <td>-0.369697</td>\n",
       "      <td>-0.600</td>\n",
       "      <td>-0.166667</td>\n",
       "      <td>0.000000</td>\n",
       "      <td>0.000000</td>\n",
       "      <td>0.500000</td>\n",
       "      <td>0.000000</td>\n",
       "      <td>0</td>\n",
       "    </tr>\n",
       "    <tr>\n",
       "      <td>4</td>\n",
       "      <td>http://mashable.com/2013/01/07/att-u-verse-apps/</td>\n",
       "      <td>731.0</td>\n",
       "      <td>13.0</td>\n",
       "      <td>1072.0</td>\n",
       "      <td>0.415646</td>\n",
       "      <td>1.0</td>\n",
       "      <td>0.540890</td>\n",
       "      <td>19.0</td>\n",
       "      <td>19.0</td>\n",
       "      <td>20.0</td>\n",
       "      <td>...</td>\n",
       "      <td>0.033333</td>\n",
       "      <td>1.0</td>\n",
       "      <td>-0.220192</td>\n",
       "      <td>-0.500</td>\n",
       "      <td>-0.050000</td>\n",
       "      <td>0.454545</td>\n",
       "      <td>0.136364</td>\n",
       "      <td>0.045455</td>\n",
       "      <td>0.136364</td>\n",
       "      <td>0</td>\n",
       "    </tr>\n",
       "  </tbody>\n",
       "</table>\n",
       "<p>5 rows × 61 columns</p>\n",
       "</div>"
      ],
      "text/plain": [
       "                                                 url  timedelta  \\\n",
       "0  http://mashable.com/2013/01/07/amazon-instant-...      731.0   \n",
       "1  http://mashable.com/2013/01/07/ap-samsung-spon...      731.0   \n",
       "2  http://mashable.com/2013/01/07/apple-40-billio...      731.0   \n",
       "3  http://mashable.com/2013/01/07/astronaut-notre...      731.0   \n",
       "4   http://mashable.com/2013/01/07/att-u-verse-apps/      731.0   \n",
       "\n",
       "   n_tokens_title  n_tokens_content  n_unique_tokens  n_non_stop_words  \\\n",
       "0            12.0             219.0         0.663594               1.0   \n",
       "1             9.0             255.0         0.604743               1.0   \n",
       "2             9.0             211.0         0.575130               1.0   \n",
       "3             9.0             531.0         0.503788               1.0   \n",
       "4            13.0            1072.0         0.415646               1.0   \n",
       "\n",
       "   n_non_stop_unique_tokens  num_hrefs  num_self_hrefs  num_imgs  ...  \\\n",
       "0                  0.815385        4.0             2.0       1.0  ...   \n",
       "1                  0.791946        3.0             1.0       1.0  ...   \n",
       "2                  0.663866        3.0             1.0       1.0  ...   \n",
       "3                  0.665635        9.0             0.0       1.0  ...   \n",
       "4                  0.540890       19.0            19.0      20.0  ...   \n",
       "\n",
       "   min_positive_polarity  max_positive_polarity  avg_negative_polarity  \\\n",
       "0               0.100000                    0.7              -0.350000   \n",
       "1               0.033333                    0.7              -0.118750   \n",
       "2               0.100000                    1.0              -0.466667   \n",
       "3               0.136364                    0.8              -0.369697   \n",
       "4               0.033333                    1.0              -0.220192   \n",
       "\n",
       "   min_negative_polarity  max_negative_polarity  title_subjectivity  \\\n",
       "0                 -0.600              -0.200000            0.500000   \n",
       "1                 -0.125              -0.100000            0.000000   \n",
       "2                 -0.800              -0.133333            0.000000   \n",
       "3                 -0.600              -0.166667            0.000000   \n",
       "4                 -0.500              -0.050000            0.454545   \n",
       "\n",
       "   title_sentiment_polarity  abs_title_subjectivity  \\\n",
       "0                 -0.187500                0.000000   \n",
       "1                  0.000000                0.500000   \n",
       "2                  0.000000                0.500000   \n",
       "3                  0.000000                0.500000   \n",
       "4                  0.136364                0.045455   \n",
       "\n",
       "   abs_title_sentiment_polarity  class  \n",
       "0                      0.187500      0  \n",
       "1                      0.000000      0  \n",
       "2                      0.000000      1  \n",
       "3                      0.000000      0  \n",
       "4                      0.136364      0  \n",
       "\n",
       "[5 rows x 61 columns]"
      ]
     },
     "execution_count": 3,
     "metadata": {},
     "output_type": "execute_result"
    }
   ],
   "source": [
    "df.head()"
   ]
  },
  {
   "cell_type": "code",
   "execution_count": 4,
   "metadata": {},
   "outputs": [],
   "source": [
    "df = df.drop(['url','timedelta'],axis=1)"
   ]
  },
  {
   "cell_type": "markdown",
   "metadata": {},
   "source": [
    "# Importing libraries required for building models"
   ]
  },
  {
   "cell_type": "code",
   "execution_count": 5,
   "metadata": {},
   "outputs": [],
   "source": [
    "from sklearn.preprocessing import StandardScaler\n",
    "from sklearn.model_selection import train_test_split, cross_validate\n",
    "from sklearn.decomposition import PCA\n",
    "from sklearn import model_selection\n",
    "from sklearn import feature_selection\n",
    "from sklearn.model_selection import GridSearchCV, validation_curve,RandomizedSearchCV\n",
    "from sklearn.linear_model import LogisticRegression\n",
    "from sklearn.neighbors import KNeighborsClassifier\n",
    "from sklearn.tree import DecisionTreeClassifier\n",
    "from sklearn.ensemble import RandomForestClassifier,AdaBoostClassifier,BaggingClassifier,GradientBoostingClassifier\n",
    "from xgboost import XGBClassifier\n",
    "from sklearn.metrics import accuracy_score,confusion_matrix, classification_report, f1_score,roc_auc_score,roc_curve"
   ]
  },
  {
   "cell_type": "code",
   "execution_count": null,
   "metadata": {},
   "outputs": [],
   "source": []
  },
  {
   "cell_type": "markdown",
   "metadata": {},
   "source": [
    "## Custom functions"
   ]
  },
  {
   "cell_type": "code",
   "execution_count": 6,
   "metadata": {},
   "outputs": [],
   "source": [
    "\n",
    "def std_data_whole(x):\n",
    "    sc = StandardScaler()\n",
    "    scaled = sc.fit_transform(x)\n",
    "    return scaled\n",
    "\n",
    "def get_principal_comp(x_scaled):\n",
    "    # Perfroming the PCA\n",
    "    pca = PCA()\n",
    "    pca.fit(x_scaled)\n",
    "\n",
    "    # Apply dimensionality reduction - PCA to standardized X and get the principal components\n",
    "    pc_score = pca.transform(X_scaled)\n",
    "\n",
    "    # explained variance in percentage i.e (4.68/45)\n",
    "    exp_var = pca.explained_variance_ratio_\n",
    "\n",
    "    exp_var = np.round(exp_var*100,decimals=1)\n",
    "\n",
    "    cum_var=np.cumsum(exp_var)\n",
    "\n",
    "    return len(cum_var[cum_var<95])\n",
    "\n",
    "\n",
    "def apply_pca(n,x_scaled):\n",
    "    pca = PCA(n_components = n)\n",
    "    data = pca.fit_transform(x_scaled)\n",
    "    return data\n",
    "\n",
    "\n",
    "def implement(x,y,models):\n",
    "    final = {}\n",
    "    results = []\n",
    "    names = []\n",
    "    auc = []\n",
    "    for name,model in models:\n",
    "        kfold = model_selection.KFold(shuffle=True,n_splits=5,random_state=0)\n",
    "        cv_results = model_selection.cross_val_score(model,x,y,cv=kfold, scoring='roc_auc')\n",
    "        results.append((np.abs(cv_results)))\n",
    "        auc.append(np.mean(results))\n",
    "        names.append(name)\n",
    "        final.update({'Model':names , 'auc_score': auc})\n",
    "    return pd.DataFrame(final)\n",
    "\n",
    "\n",
    "\n",
    "def grid_search_cv(x,y,model,params):\n",
    "    GS = GridSearchCV(model, params, cv = 5, scoring = 'roc_auc')\n",
    "    GS.fit(x,y)\n",
    "    return GS.best_params_, GS.best_estimator_, GS.best_score_\n",
    "\n",
    "\n",
    "def random_search_cv(x,y,model,params):\n",
    "    RS = RandomizedSearchCV(model, params, cv = 5, scoring = 'roc_auc')\n",
    "    RS.fit(x,y)\n",
    "    return RS.best_params_, RS.best_estimator_, RS.best_score_\n",
    "\n",
    "\n",
    "        \n",
    "# ---------------------------------- extra ----------------------------------- #\n",
    "\n",
    "def get_train_test_scores(x,y,models):\n",
    "        names = []\n",
    "        score1 = []\n",
    "        score2 = []\n",
    "        for name,model in models:\n",
    "            kfold = model_selection.KFold(shuffle=True,n_splits=5,random_state=0)\n",
    "            output = cross_validate(model, x, y, cv = kfold, scoring = 'roc_auc', return_train_score = True)\n",
    "            names.append(name)\n",
    "            score1.append(np.mean(output['train_score']))\n",
    "            score2.append(np.mean(output['test_score']))\n",
    "        return pd.DataFrame({'Model': names, 'train_score': score1, \n",
    "                                 'test_score': score2})\n",
    "    \n",
    "                       \n",
    "def get_imp_features(x,y,model):\n",
    "        output = cross_validate(model, x, y, cv=5, scoring = 'roc_auc', return_estimator =True)\n",
    "        for idx,estimator in enumerate(output['estimator']):\n",
    "            print(\"Features sorted by their score for estimator {}:\".format(idx))\n",
    "            imp_feat = pd.DataFrame({'features': X.columns, 'imp_score':estimator.feature_importances_})\n",
    "            imp_feat = imp_feat.sort_values(by = 'imp_score', ascending = False)\n",
    "            print(imp_feat[imp_feat['imp_score']>0])\n",
    "        print(output['test_score'],np.mean(output['test_score']))\n",
    "        \n",
    "        \n",
    "\n",
    "def plot_roc_auc_curve(x,y,model,name):\n",
    "    \n",
    "        tprs = []\n",
    "        aucs = []\n",
    "        mean_fpr = np.linspace(0, 1, 100)\n",
    "        plt.figure(figsize=(5,5))\n",
    "        i = 0\n",
    "        \n",
    "        kfold = model_selection.KFold(shuffle=True,n_splits=5,random_state=0)\n",
    "        \n",
    "        for train_index, test_index in kfold.split(x):\n",
    "            X_train, X_test = x[train_index], x[test_index]\n",
    "            y_train, y_test = y[train_index], y[test_index]\n",
    "            \n",
    "            probas_test = model.fit(X_train,y_train).predict_proba(X_test)[:,1]\n",
    "            \n",
    "            fpr, tpr, thresholds = roc_curve(y_test,probas_test)\n",
    "            \n",
    "            tprs.append(np.interp(mean_fpr, fpr, tpr))\n",
    "            tprs[-1][0] = 0.0\n",
    "            roc_auc = auc(fpr, tpr)\n",
    "            aucs.append(roc_auc)\n",
    "            plt.plot(fpr, tpr, alpha=0.3, label='ROC fold %d (AUC = %0.2f)' % (i, roc_auc))\n",
    "\n",
    "            i += 1\n",
    "        print(thresholds)\n",
    "        plt.plot([0, 1], [0, 1], linestyle='--', lw=2, color='r', label='Chance', alpha=.8)\n",
    "\n",
    "        mean_tpr = np.mean(tprs, axis=0)\n",
    "        mean_tpr[-1] = 1.0\n",
    "        mean_auc = auc(mean_fpr, mean_tpr)\n",
    "        plt.plot(mean_fpr, mean_tpr, color='b',\n",
    "                 label=r'Mean ROC (AUC = %0.2f )' % (mean_auc),\n",
    "                 lw=2, alpha=.8)\n",
    "\n",
    "        plt.xlim([-0.01, 1.01])\n",
    "        plt.ylim([-0.01, 1.01])\n",
    "        plt.xlabel('False Positive Rate',fontsize=10)\n",
    "        plt.ylabel('True Positive Rate',fontsize=10)\n",
    "        plt.title(r'Cross-Validation ROC of %s' % (name),fontsize=10)\n",
    "        plt.legend(loc=\"lower right\", prop={'size': 9})\n",
    "        plt.show()\n",
    "        \n",
    "        \n",
    "\n",
    "        \n",
    "def plot_roc_auc_curve_all(x,y,models):\n",
    "    \n",
    "        tprs = []\n",
    "        aucs = []\n",
    "        mean_fpr = np.linspace(0, 1, 100)\n",
    "        plt.figure(figsize=(5,5))\n",
    "        i = 0\n",
    "        \n",
    "        kfold = model_selection.KFold(shuffle=True,n_splits=5,random_state=0)\n",
    "        for name,model,color in models:\n",
    "            for train_index, test_index in kfold.split(x):\n",
    "                X_train, X_test = x[train_index], x[test_index]\n",
    "                y_train, y_test = y[train_index], y[test_index]\n",
    "\n",
    "                probas_test = model.fit(X_train,y_train).predict_proba(X_test)[:,1]\n",
    "\n",
    "                fpr, tpr, thresholds = roc_curve(y_test,probas_test)\n",
    "\n",
    "                tprs.append(np.interp(mean_fpr, fpr, tpr))\n",
    "                tprs[-1][0] = 0.0\n",
    "                roc_auc = auc(fpr, tpr)\n",
    "                aucs.append(roc_auc)\n",
    "                #plt.plot(fpr, tpr, alpha=0.3, label='ROC fold %d (AUC = %0.2f)' % (i, roc_auc))\n",
    "                i += 1\n",
    "                \n",
    "            mean_tpr = np.mean(tprs, axis=0)\n",
    "            mean_tpr[-1] = 1.0\n",
    "            mean_auc = auc(mean_fpr, mean_tpr)\n",
    "            plt.plot(mean_fpr, mean_tpr, color= color,\n",
    "                     label=r'%s (AUC = %0.2f )' % (name,mean_auc),\n",
    "                     lw=1, alpha=.6)\n",
    "            \n",
    "        plt.plot([0, 1], [0, 1], linestyle='--', lw=2, color='k', label='Chance', alpha=.8)\n",
    "        plt.xlim([-0.01, 1.01])\n",
    "        plt.ylim([-0.01, 1.01])\n",
    "        plt.xlabel('False Positive Rate',fontsize=10)\n",
    "        plt.ylabel('True Positive Rate',fontsize=10)\n",
    "        plt.title('Mean ROC for all models',fontsize=10)\n",
    "        plt.legend(loc=\"lower right\", prop={'size': 9})\n",
    "        plt.show()\n",
    "\n",
    "# ---------------------------------- extra ----------------------------------- #\n",
    "\n"
   ]
  },
  {
   "cell_type": "markdown",
   "metadata": {},
   "source": [
    "## Applying PCA on whole data"
   ]
  },
  {
   "cell_type": "code",
   "execution_count": 7,
   "metadata": {},
   "outputs": [],
   "source": [
    "X = df.drop(['class'], axis = 1 )\n",
    "\n",
    "Y = df['class']\n",
    "\n",
    "X_scaled = std_data_whole(X) # scale data\n",
    "\n",
    "ncomp = get_principal_comp(X_scaled) # obtain principalcomponents\n",
    "\n",
    "pca_data = apply_pca(ncomp,X_scaled) # apply pca on data"
   ]
  },
  {
   "cell_type": "markdown",
   "metadata": {},
   "source": [
    "## Initialize and build the models\n"
   ]
  },
  {
   "cell_type": "markdown",
   "metadata": {},
   "source": [
    "### 1. Logistic Regression"
   ]
  },
  {
   "cell_type": "code",
   "execution_count": 8,
   "metadata": {},
   "outputs": [
    {
     "data": {
      "text/html": [
       "<div>\n",
       "<style scoped>\n",
       "    .dataframe tbody tr th:only-of-type {\n",
       "        vertical-align: middle;\n",
       "    }\n",
       "\n",
       "    .dataframe tbody tr th {\n",
       "        vertical-align: top;\n",
       "    }\n",
       "\n",
       "    .dataframe thead th {\n",
       "        text-align: right;\n",
       "    }\n",
       "</style>\n",
       "<table border=\"1\" class=\"dataframe\">\n",
       "  <thead>\n",
       "    <tr style=\"text-align: right;\">\n",
       "      <th></th>\n",
       "      <th>Model</th>\n",
       "      <th>auc_score</th>\n",
       "    </tr>\n",
       "  </thead>\n",
       "  <tbody>\n",
       "    <tr>\n",
       "      <td>0</td>\n",
       "      <td>Logistic Regression</td>\n",
       "      <td>0.702458</td>\n",
       "    </tr>\n",
       "  </tbody>\n",
       "</table>\n",
       "</div>"
      ],
      "text/plain": [
       "                 Model  auc_score\n",
       "0  Logistic Regression   0.702458"
      ]
     },
     "execution_count": 8,
     "metadata": {},
     "output_type": "execute_result"
    }
   ],
   "source": [
    "\n",
    "LOGREG = LogisticRegression(random_state = 0, max_iter = 1000)\n",
    "\n",
    "models = []\n",
    "models.append(('Logistic Regression',LOGREG))\n",
    "\n",
    "implement(X_scaled,Y,models) # function call to fit the model with default parameters\n"
   ]
  },
  {
   "cell_type": "markdown",
   "metadata": {},
   "source": [
    "### 2. Decision Tree"
   ]
  },
  {
   "cell_type": "code",
   "execution_count": 9,
   "metadata": {},
   "outputs": [
    {
     "data": {
      "text/html": [
       "<div>\n",
       "<style scoped>\n",
       "    .dataframe tbody tr th:only-of-type {\n",
       "        vertical-align: middle;\n",
       "    }\n",
       "\n",
       "    .dataframe tbody tr th {\n",
       "        vertical-align: top;\n",
       "    }\n",
       "\n",
       "    .dataframe thead th {\n",
       "        text-align: right;\n",
       "    }\n",
       "</style>\n",
       "<table border=\"1\" class=\"dataframe\">\n",
       "  <thead>\n",
       "    <tr style=\"text-align: right;\">\n",
       "      <th></th>\n",
       "      <th>Model</th>\n",
       "      <th>auc_score</th>\n",
       "    </tr>\n",
       "  </thead>\n",
       "  <tbody>\n",
       "    <tr>\n",
       "      <td>0</td>\n",
       "      <td>Decision Tree</td>\n",
       "      <td>0.57783</td>\n",
       "    </tr>\n",
       "  </tbody>\n",
       "</table>\n",
       "</div>"
      ],
      "text/plain": [
       "           Model  auc_score\n",
       "0  Decision Tree    0.57783"
      ]
     },
     "execution_count": 9,
     "metadata": {},
     "output_type": "execute_result"
    }
   ],
   "source": [
    "\n",
    "DT = DecisionTreeClassifier(random_state=0)\n",
    "\n",
    "models = []\n",
    "models.append(('Decision Tree', DT))\n",
    "\n",
    "implement(X_scaled,Y,models) # default"
   ]
  },
  {
   "cell_type": "markdown",
   "metadata": {},
   "source": [
    "## Ensemble methods"
   ]
  },
  {
   "cell_type": "markdown",
   "metadata": {},
   "source": [
    "### 3. Random Forest"
   ]
  },
  {
   "cell_type": "code",
   "execution_count": 8,
   "metadata": {},
   "outputs": [
    {
     "data": {
      "text/html": [
       "<div>\n",
       "<style scoped>\n",
       "    .dataframe tbody tr th:only-of-type {\n",
       "        vertical-align: middle;\n",
       "    }\n",
       "\n",
       "    .dataframe tbody tr th {\n",
       "        vertical-align: top;\n",
       "    }\n",
       "\n",
       "    .dataframe thead th {\n",
       "        text-align: right;\n",
       "    }\n",
       "</style>\n",
       "<table border=\"1\" class=\"dataframe\">\n",
       "  <thead>\n",
       "    <tr style=\"text-align: right;\">\n",
       "      <th></th>\n",
       "      <th>Model</th>\n",
       "      <th>auc_score</th>\n",
       "    </tr>\n",
       "  </thead>\n",
       "  <tbody>\n",
       "    <tr>\n",
       "      <td>0</td>\n",
       "      <td>Random Forest</td>\n",
       "      <td>0.721993</td>\n",
       "    </tr>\n",
       "  </tbody>\n",
       "</table>\n",
       "</div>"
      ],
      "text/plain": [
       "           Model  auc_score\n",
       "0  Random Forest   0.721993"
      ]
     },
     "execution_count": 8,
     "metadata": {},
     "output_type": "execute_result"
    }
   ],
   "source": [
    "\n",
    "RF = RandomForestClassifier(random_state=0)\n",
    "\n",
    "models = []\n",
    "models.append(('Random Forest', RF))\n",
    "\n",
    "\n",
    "implement(X_scaled,Y,models) # default"
   ]
  },
  {
   "cell_type": "markdown",
   "metadata": {},
   "source": [
    "### 4. AdaBoost DT"
   ]
  },
  {
   "cell_type": "code",
   "execution_count": 11,
   "metadata": {},
   "outputs": [
    {
     "data": {
      "text/html": [
       "<div>\n",
       "<style scoped>\n",
       "    .dataframe tbody tr th:only-of-type {\n",
       "        vertical-align: middle;\n",
       "    }\n",
       "\n",
       "    .dataframe tbody tr th {\n",
       "        vertical-align: top;\n",
       "    }\n",
       "\n",
       "    .dataframe thead th {\n",
       "        text-align: right;\n",
       "    }\n",
       "</style>\n",
       "<table border=\"1\" class=\"dataframe\">\n",
       "  <thead>\n",
       "    <tr style=\"text-align: right;\">\n",
       "      <th></th>\n",
       "      <th>Model</th>\n",
       "      <th>auc_score</th>\n",
       "    </tr>\n",
       "  </thead>\n",
       "  <tbody>\n",
       "    <tr>\n",
       "      <td>0</td>\n",
       "      <td>Decision Tree</td>\n",
       "      <td>0.57783</td>\n",
       "    </tr>\n",
       "  </tbody>\n",
       "</table>\n",
       "</div>"
      ],
      "text/plain": [
       "           Model  auc_score\n",
       "0  Decision Tree    0.57783"
      ]
     },
     "execution_count": 11,
     "metadata": {},
     "output_type": "execute_result"
    }
   ],
   "source": [
    "\n",
    "AB_DT = AdaBoostClassifier(base_estimator = DT, random_state=0)\n",
    "\n",
    "models = []\n",
    "models.append(('Decision Tree', DT))\n",
    "\n",
    "\n",
    "implement(X_scaled,Y,models) # default"
   ]
  },
  {
   "cell_type": "markdown",
   "metadata": {},
   "source": [
    "### 5. AdaBoost RF"
   ]
  },
  {
   "cell_type": "code",
   "execution_count": 9,
   "metadata": {},
   "outputs": [
    {
     "data": {
      "text/html": [
       "<div>\n",
       "<style scoped>\n",
       "    .dataframe tbody tr th:only-of-type {\n",
       "        vertical-align: middle;\n",
       "    }\n",
       "\n",
       "    .dataframe tbody tr th {\n",
       "        vertical-align: top;\n",
       "    }\n",
       "\n",
       "    .dataframe thead th {\n",
       "        text-align: right;\n",
       "    }\n",
       "</style>\n",
       "<table border=\"1\" class=\"dataframe\">\n",
       "  <thead>\n",
       "    <tr style=\"text-align: right;\">\n",
       "      <th></th>\n",
       "      <th>Model</th>\n",
       "      <th>auc_score</th>\n",
       "    </tr>\n",
       "  </thead>\n",
       "  <tbody>\n",
       "    <tr>\n",
       "      <td>0</td>\n",
       "      <td>AB Random Forest</td>\n",
       "      <td>0.720971</td>\n",
       "    </tr>\n",
       "  </tbody>\n",
       "</table>\n",
       "</div>"
      ],
      "text/plain": [
       "              Model  auc_score\n",
       "0  AB Random Forest   0.720971"
      ]
     },
     "execution_count": 9,
     "metadata": {},
     "output_type": "execute_result"
    }
   ],
   "source": [
    "\n",
    "AB_RF = AdaBoostClassifier(base_estimator = RF, random_state=0)\n",
    "\n",
    "models = []\n",
    "models.append(('AB Random Forest', AB_RF))\n",
    "\n",
    "implement(X_scaled,Y,models) # default"
   ]
  },
  {
   "cell_type": "code",
   "execution_count": null,
   "metadata": {},
   "outputs": [],
   "source": []
  },
  {
   "cell_type": "markdown",
   "metadata": {},
   "source": [
    "### 6. Gradient Boost "
   ]
  },
  {
   "cell_type": "code",
   "execution_count": 13,
   "metadata": {},
   "outputs": [
    {
     "data": {
      "text/html": [
       "<div>\n",
       "<style scoped>\n",
       "    .dataframe tbody tr th:only-of-type {\n",
       "        vertical-align: middle;\n",
       "    }\n",
       "\n",
       "    .dataframe tbody tr th {\n",
       "        vertical-align: top;\n",
       "    }\n",
       "\n",
       "    .dataframe thead th {\n",
       "        text-align: right;\n",
       "    }\n",
       "</style>\n",
       "<table border=\"1\" class=\"dataframe\">\n",
       "  <thead>\n",
       "    <tr style=\"text-align: right;\">\n",
       "      <th></th>\n",
       "      <th>Model</th>\n",
       "      <th>auc_score</th>\n",
       "    </tr>\n",
       "  </thead>\n",
       "  <tbody>\n",
       "    <tr>\n",
       "      <td>0</td>\n",
       "      <td>Gradient Boost</td>\n",
       "      <td>0.727489</td>\n",
       "    </tr>\n",
       "  </tbody>\n",
       "</table>\n",
       "</div>"
      ],
      "text/plain": [
       "            Model  auc_score\n",
       "0  Gradient Boost   0.727489"
      ]
     },
     "execution_count": 13,
     "metadata": {},
     "output_type": "execute_result"
    }
   ],
   "source": [
    "\n",
    "GB = GradientBoostingClassifier(random_state=0)\n",
    "\n",
    "models = []\n",
    "models.append(('Gradient Boost', GB))\n",
    "\n",
    "implement(X_scaled,Y,models) # default"
   ]
  },
  {
   "cell_type": "code",
   "execution_count": null,
   "metadata": {},
   "outputs": [],
   "source": []
  },
  {
   "cell_type": "markdown",
   "metadata": {},
   "source": [
    "## Hyper Parameter tuning - Random Search CV\n",
    "\n",
    "### 1. Decision Tree"
   ]
  },
  {
   "cell_type": "code",
   "execution_count": 14,
   "metadata": {},
   "outputs": [
    {
     "name": "stdout",
     "output_type": "stream",
     "text": [
      "{'min_samples_split': 7, 'min_samples_leaf': 4, 'max_depth': 6, 'criterion': 'entropy'}\n"
     ]
    }
   ],
   "source": [
    "# Maximum number of levels in tree\n",
    "max_depth = np.arange(2,9,2)\n",
    "\n",
    "# Minimum number of samples required to split a node\n",
    "min_samples_split = [2,3,5,7]\n",
    "\n",
    "# Minimum number of samples required at each leaf node\n",
    "min_samples_leaf = [2, 3, 4,5]\n",
    "\n",
    "dt_params = {'max_depth': max_depth, 'min_samples_leaf': min_samples_leaf,\n",
    "             'criterion':['gini','entropy'], 'min_samples_split' : min_samples_split}\n",
    "\n",
    "dtparam, dtestimator, dtscore = random_search_cv(X_scaled,Y,DT,dt_params)\n",
    "\n",
    "print(dtparam)"
   ]
  },
  {
   "cell_type": "code",
   "execution_count": 15,
   "metadata": {},
   "outputs": [
    {
     "data": {
      "text/html": [
       "<div>\n",
       "<style scoped>\n",
       "    .dataframe tbody tr th:only-of-type {\n",
       "        vertical-align: middle;\n",
       "    }\n",
       "\n",
       "    .dataframe tbody tr th {\n",
       "        vertical-align: top;\n",
       "    }\n",
       "\n",
       "    .dataframe thead th {\n",
       "        text-align: right;\n",
       "    }\n",
       "</style>\n",
       "<table border=\"1\" class=\"dataframe\">\n",
       "  <thead>\n",
       "    <tr style=\"text-align: right;\">\n",
       "      <th></th>\n",
       "      <th>Model</th>\n",
       "      <th>auc_score</th>\n",
       "    </tr>\n",
       "  </thead>\n",
       "  <tbody>\n",
       "    <tr>\n",
       "      <td>0</td>\n",
       "      <td>Tuned Decision Tree</td>\n",
       "      <td>0.683426</td>\n",
       "    </tr>\n",
       "  </tbody>\n",
       "</table>\n",
       "</div>"
      ],
      "text/plain": [
       "                 Model  auc_score\n",
       "0  Tuned Decision Tree   0.683426"
      ]
     },
     "execution_count": 15,
     "metadata": {},
     "output_type": "execute_result"
    }
   ],
   "source": [
    "models = []\n",
    "models.append(('Tuned Decision Tree', dtestimator))\n",
    "\n",
    "implement(X_scaled,Y,models)"
   ]
  },
  {
   "cell_type": "markdown",
   "metadata": {},
   "source": [
    "## Ensemble Models with tuned parameters\n",
    "\n",
    "### 2. Random Forest\n"
   ]
  },
  {
   "cell_type": "code",
   "execution_count": 18,
   "metadata": {},
   "outputs": [
    {
     "name": "stdout",
     "output_type": "stream",
     "text": [
      "{'n_estimators': 20, 'min_samples_split': 7, 'min_samples_leaf': 4, 'max_depth': 8, 'criterion': 'entropy'}\n"
     ]
    }
   ],
   "source": [
    "\n",
    "# Number of trees in random forest\n",
    "n_estimators = [10,15,20,25]\n",
    "\n",
    "# Maximum number of levels in tree\n",
    "max_depth =  np.arange(2,9,2)\n",
    "\n",
    "# Minimum number of samples required to split a node\n",
    "min_samples_split = [2, 5, 7, 8]\n",
    "\n",
    "# Minimum number of samples required at each leaf node\n",
    "min_samples_leaf = [2, 3, 4, 5]\n",
    "\n",
    "\n",
    "rf_params = {'n_estimators': n_estimators, 'criterion':['gini','entropy'], \n",
    "             'max_depth': max_depth, 'min_samples_leaf': min_samples_leaf, 'min_samples_split': min_samples_split }\n",
    "\n",
    "rfparam, rfestimator, rfscore = random_search_cv(X_scaled,Y,RF,rf_params)\n",
    "\n",
    "print(rfparam)"
   ]
  },
  {
   "cell_type": "code",
   "execution_count": 19,
   "metadata": {},
   "outputs": [
    {
     "data": {
      "text/html": [
       "<div>\n",
       "<style scoped>\n",
       "    .dataframe tbody tr th:only-of-type {\n",
       "        vertical-align: middle;\n",
       "    }\n",
       "\n",
       "    .dataframe tbody tr th {\n",
       "        vertical-align: top;\n",
       "    }\n",
       "\n",
       "    .dataframe thead th {\n",
       "        text-align: right;\n",
       "    }\n",
       "</style>\n",
       "<table border=\"1\" class=\"dataframe\">\n",
       "  <thead>\n",
       "    <tr style=\"text-align: right;\">\n",
       "      <th></th>\n",
       "      <th>Model</th>\n",
       "      <th>auc_score</th>\n",
       "    </tr>\n",
       "  </thead>\n",
       "  <tbody>\n",
       "    <tr>\n",
       "      <td>0</td>\n",
       "      <td>Tuned Random Forest</td>\n",
       "      <td>0.715076</td>\n",
       "    </tr>\n",
       "  </tbody>\n",
       "</table>\n",
       "</div>"
      ],
      "text/plain": [
       "                 Model  auc_score\n",
       "0  Tuned Random Forest   0.715076"
      ]
     },
     "execution_count": 19,
     "metadata": {},
     "output_type": "execute_result"
    }
   ],
   "source": [
    "models = []\n",
    "models.append(('Tuned Random Forest', rfestimator))\n",
    "\n",
    "implement(X_scaled,Y,models)"
   ]
  },
  {
   "cell_type": "markdown",
   "metadata": {},
   "source": [
    "### 3. AdaBoost RF"
   ]
  },
  {
   "cell_type": "code",
   "execution_count": 10,
   "metadata": {},
   "outputs": [
    {
     "data": {
      "text/html": [
       "<div>\n",
       "<style scoped>\n",
       "    .dataframe tbody tr th:only-of-type {\n",
       "        vertical-align: middle;\n",
       "    }\n",
       "\n",
       "    .dataframe tbody tr th {\n",
       "        vertical-align: top;\n",
       "    }\n",
       "\n",
       "    .dataframe thead th {\n",
       "        text-align: right;\n",
       "    }\n",
       "</style>\n",
       "<table border=\"1\" class=\"dataframe\">\n",
       "  <thead>\n",
       "    <tr style=\"text-align: right;\">\n",
       "      <th></th>\n",
       "      <th>Model</th>\n",
       "      <th>auc_score</th>\n",
       "    </tr>\n",
       "  </thead>\n",
       "  <tbody>\n",
       "    <tr>\n",
       "      <td>0</td>\n",
       "      <td>AB RF</td>\n",
       "      <td>0.730976</td>\n",
       "    </tr>\n",
       "  </tbody>\n",
       "</table>\n",
       "</div>"
      ],
      "text/plain": [
       "   Model  auc_score\n",
       "0  AB RF   0.730976"
      ]
     },
     "execution_count": 10,
     "metadata": {},
     "output_type": "execute_result"
    }
   ],
   "source": [
    "tuned_RF = RandomForestClassifier(n_estimators = 20, min_samples_split = 7, min_samples_leaf = 4, max_depth = 8,\n",
    "                            criterion = 'entropy', random_state = 0)\n",
    "\n",
    "AB_RF = AdaBoostClassifier(base_estimator = tuned_RF, n_estimators = 10, random_state = 0)\n",
    "\n",
    "models = []\n",
    "models.append(('AB RF', AB_RF))\n",
    "\n",
    "implement(X_scaled,Y,models)"
   ]
  },
  {
   "cell_type": "markdown",
   "metadata": {},
   "source": [
    "### 4. AdaBoost DT"
   ]
  },
  {
   "cell_type": "code",
   "execution_count": 21,
   "metadata": {},
   "outputs": [
    {
     "data": {
      "text/html": [
       "<div>\n",
       "<style scoped>\n",
       "    .dataframe tbody tr th:only-of-type {\n",
       "        vertical-align: middle;\n",
       "    }\n",
       "\n",
       "    .dataframe tbody tr th {\n",
       "        vertical-align: top;\n",
       "    }\n",
       "\n",
       "    .dataframe thead th {\n",
       "        text-align: right;\n",
       "    }\n",
       "</style>\n",
       "<table border=\"1\" class=\"dataframe\">\n",
       "  <thead>\n",
       "    <tr style=\"text-align: right;\">\n",
       "      <th></th>\n",
       "      <th>Model</th>\n",
       "      <th>auc_score</th>\n",
       "    </tr>\n",
       "  </thead>\n",
       "  <tbody>\n",
       "    <tr>\n",
       "      <td>0</td>\n",
       "      <td>AB DT</td>\n",
       "      <td>0.686979</td>\n",
       "    </tr>\n",
       "  </tbody>\n",
       "</table>\n",
       "</div>"
      ],
      "text/plain": [
       "   Model  auc_score\n",
       "0  AB DT   0.686979"
      ]
     },
     "execution_count": 21,
     "metadata": {},
     "output_type": "execute_result"
    }
   ],
   "source": [
    "AB_DT = AdaBoostClassifier(base_estimator = dtestimator, n_estimators = 10, random_state = 0)\n",
    "\n",
    "models = []\n",
    "models.append(('AB DT', AB_DT))\n",
    "\n",
    "implement(X_scaled,Y,models)"
   ]
  },
  {
   "cell_type": "markdown",
   "metadata": {},
   "source": [
    "### 5. Gradient Boost"
   ]
  },
  {
   "cell_type": "code",
   "execution_count": 26,
   "metadata": {},
   "outputs": [
    {
     "data": {
      "text/html": [
       "<div>\n",
       "<style scoped>\n",
       "    .dataframe tbody tr th:only-of-type {\n",
       "        vertical-align: middle;\n",
       "    }\n",
       "\n",
       "    .dataframe tbody tr th {\n",
       "        vertical-align: top;\n",
       "    }\n",
       "\n",
       "    .dataframe thead th {\n",
       "        text-align: right;\n",
       "    }\n",
       "</style>\n",
       "<table border=\"1\" class=\"dataframe\">\n",
       "  <thead>\n",
       "    <tr style=\"text-align: right;\">\n",
       "      <th></th>\n",
       "      <th>Model</th>\n",
       "      <th>auc_score</th>\n",
       "    </tr>\n",
       "  </thead>\n",
       "  <tbody>\n",
       "    <tr>\n",
       "      <td>0</td>\n",
       "      <td>GB</td>\n",
       "      <td>0.721613</td>\n",
       "    </tr>\n",
       "  </tbody>\n",
       "</table>\n",
       "</div>"
      ],
      "text/plain": [
       "  Model  auc_score\n",
       "0    GB   0.721613"
      ]
     },
     "execution_count": 26,
     "metadata": {},
     "output_type": "execute_result"
    }
   ],
   "source": [
    "GB = GradientBoostingClassifier(n_estimators = 50, random_state = 0)\n",
    "\n",
    "models = []\n",
    "models.append(('GB', GB))\n",
    "\n",
    "implement(X_scaled,Y,models)"
   ]
  },
  {
   "cell_type": "markdown",
   "metadata": {},
   "source": [
    "## Inference: \n",
    "\n",
    "The hypertuned RF with AdaBoost perfroms well as compared to others with an roc_auc_score of 73.09% on PCA data"
   ]
  },
  {
   "cell_type": "code",
   "execution_count": null,
   "metadata": {},
   "outputs": [],
   "source": []
  },
  {
   "cell_type": "markdown",
   "metadata": {},
   "source": [
    "## Working on PCA Data -- with train test split"
   ]
  },
  {
   "cell_type": "code",
   "execution_count": 11,
   "metadata": {},
   "outputs": [],
   "source": [
    "\n",
    "# function for splitting the data in train and validation set\n",
    "def perform_train_test_split(x,y):\n",
    "    return train_test_split(x, y, test_size=0.2, random_state = 0)\n",
    "\n",
    "\n",
    "\n",
    "# function for scaling the data\n",
    "def std_data(xtrain,xtest):\n",
    "    sc = StandardScaler()\n",
    "    scaled = sc.fit(xtrain)\n",
    "    scaled_train = sc.transform(xtrain)\n",
    "    scaled_test = sc.transform(xtest)\n",
    "    return scaled_train, scaled_test\n",
    "\n",
    "\n",
    "\n",
    "# function to Apply PCA on train and test sets\n",
    "def get_principal_comp(train,test):\n",
    "    \n",
    "    # Perfroming the PCA\n",
    "    pca = PCA(0.95)\n",
    "    pca.fit(train)\n",
    "\n",
    "    # Apply dimensionality reduction - PCA to standardized X and get the principal components\n",
    "    pca_train = pca.transform(train)\n",
    "    pca_test = pca.transform(test)\n",
    "    \n",
    "    # explained variance in percentage i.e (4.68/45)\n",
    "    exp_var = pca.explained_variance_ratio_\n",
    "\n",
    "    exp_var = np.round(exp_var*100,decimals=1)\n",
    "\n",
    "    cum_var=np.cumsum(exp_var)\n",
    " \n",
    "    print('No. of Components: ',len(cum_var[cum_var<95]))\n",
    "    \n",
    "    return pca_train, pca_test\n",
    "\n",
    "\n",
    "# function to get roc_auc_scores for train and test  \n",
    "def get_auc_scores(pca_train,pca_test,y_train,y_test,models):\n",
    "    train_score = []\n",
    "    test_score = []\n",
    "    names = []\n",
    "    for name, model in models:\n",
    "        \n",
    "        model.fit(pca_train,y_train)\n",
    "        \n",
    "        y_pred_train = model.predict(pca_train)\n",
    "        y_pred_test = model.predict(pca_test)\n",
    "        \n",
    "        probas_train = model.predict_proba(pca_train)[:,1]\n",
    "        probas_test = model.predict_proba(pca_test)[:,1]\n",
    "    \n",
    "        train_score.append(roc_auc_score(y_pred_train,probas_train))\n",
    "        test_score.append(roc_auc_score(y_pred_test,probas_test))\n",
    "        \n",
    "        names.append(name)\n",
    "        \n",
    "        scores = pd.DataFrame({'Model': names, 'train_score': train_score, 'test_score': test_score})\n",
    "        \n",
    "        return scores\n",
    "\n",
    "    \n",
    "\n",
    "# function to plot the roc auc curve\n",
    "def plot_roc_auc_curve(pca_train,pca_test,y_train,y_test,models):\n",
    "    \n",
    "    for name, model in models:\n",
    "        \n",
    "        model.fit(pca_train,y_train)\n",
    "        \n",
    "        y_pred_train = model.predict(pca_train)\n",
    "        y_pred_test = model.predict(pca_test)\n",
    "        \n",
    "        print('For Train Data:\\n')\n",
    "        print(confusion_matrix(y_train,y_pred_train))\n",
    "        print(classification_report(y_train,y_pred_train))\n",
    "        \n",
    "        print('For Test Data:\\n')\n",
    "        print(confusion_matrix(y_test,y_pred_test))\n",
    "        print(classification_report(y_test,y_pred_test))\n",
    "        \n",
    "        probas_train = model.predict_proba(pca_train)[:,1]\n",
    "        fpr_train, tpr_train, thresholds_train = roc_curve(y_train,probas_train)\n",
    "\n",
    "        probas_test = model.predict_proba(pca_test)[:,1]\n",
    "        fpr_test, tpr_test, thresholds_test = roc_curve(y_test,probas_test)\n",
    "\n",
    "        \n",
    "        plt.plot([0, 1], [0, 1], linestyle='--', lw=2, color='r', label='Chance', alpha=.8)\n",
    "        plt.plot(fpr_train, tpr_train, color='b', \n",
    "                 label=r'Train ROC (AUC = %0.2f )' % (roc_auc_score(y_pred_train,probas_train)),lw=2, alpha=.5)\n",
    "        plt.plot(fpr_test, tpr_test, color='g', \n",
    "                 label=r'Test ROC (AUC = %0.2f )' % (roc_auc_score(y_pred_test,probas_test)),lw=2, alpha=.8)\n",
    "\n",
    "        plt.xlim([-0.01, 1.01])\n",
    "        plt.ylim([-0.01, 1.01])\n",
    "        plt.xlabel('False Positive Rate',fontsize=10)\n",
    "        plt.ylabel('True Positive Rate',fontsize=10)\n",
    "        plt.title('ROC of %s' % (name),fontsize=10)\n",
    "        plt.legend(loc=\"lower right\", prop={'size': 9})\n",
    "        plt.show()\n",
    "\n",
    "\n",
    "        \n",
    "# function for finding best parameters using RandomizedSearchCV  \n",
    "def random_search_cv(x,y,model,params):\n",
    "    RS = RandomizedSearchCV(model, params, cv = 5, scoring = 'roc_auc',random_state = 0)\n",
    "    RS.fit(x,y)\n",
    "    return RS.best_params_, RS.best_estimator_, RS.best_score_\n",
    "\n",
    "\n",
    "# function for finding best parameters using GridSearchCV\n",
    "def grid_search_cv(x,y,model,params):\n",
    "    GS = GridSearchCV(model, params, cv = 5, scoring = 'roc_auc')\n",
    "    GS.fit(x,y)\n",
    "    return GS.best_params_, GS.best_estimator_, GS.best_score_\n",
    "\n",
    "\n",
    "\n",
    "# function to get roc_auc_score for each model using cross validation\n",
    "def implement(x,y,models):\n",
    "    final = {}\n",
    "    results = []\n",
    "    names = []\n",
    "    auc = []\n",
    "    for name,model in models:\n",
    "        kfold = model_selection.KFold(shuffle=True,n_splits=5,random_state=0)\n",
    "        cv_results = model_selection.cross_val_score(model,x,y,cv=kfold, scoring='roc_auc')\n",
    "        results.append((np.abs(cv_results)))\n",
    "        auc.append(np.mean(results))\n",
    "        names.append(name)\n",
    "        final.update({'Model':names , 'auc_score': auc})\n",
    "    return pd.DataFrame(final)\n",
    "\n"
   ]
  },
  {
   "cell_type": "code",
   "execution_count": null,
   "metadata": {},
   "outputs": [],
   "source": []
  },
  {
   "cell_type": "markdown",
   "metadata": {},
   "source": [
    "## Splitting the data into train and validation sets\n"
   ]
  },
  {
   "cell_type": "code",
   "execution_count": 12,
   "metadata": {},
   "outputs": [
    {
     "name": "stdout",
     "output_type": "stream",
     "text": [
      "No. of Components:  32\n"
     ]
    }
   ],
   "source": [
    "\n",
    "X = df.drop(['class','avg_negative_polarity','min_negative_polarity','max_negative_polarity',\n",
    "             'abs_title_subjectivity','weekday_is_friday'], axis = 1 )\n",
    "\n",
    "Y = df['class']\n",
    "\n",
    "X_train, X_test, y_train, y_test = perform_train_test_split(X,Y)           # split\n",
    "\n",
    "scaled_train, scaled_test = std_data(X_train,X_test)                       # standardize data\n",
    "\n",
    "pca_train, pca_test = get_principal_comp(scaled_train,scaled_test)         # apply pca"
   ]
  },
  {
   "cell_type": "markdown",
   "metadata": {},
   "source": [
    "## Initializing and Model Building"
   ]
  },
  {
   "cell_type": "markdown",
   "metadata": {},
   "source": [
    "### 1. Logistic Regression"
   ]
  },
  {
   "cell_type": "code",
   "execution_count": 24,
   "metadata": {},
   "outputs": [],
   "source": [
    "LOGREG = LogisticRegression(random_state = 0, max_iter = 1000)\n",
    "\n",
    "models = []\n",
    "models.append(('Logistic Regression',LOGREG))"
   ]
  },
  {
   "cell_type": "code",
   "execution_count": 25,
   "metadata": {},
   "outputs": [
    {
     "data": {
      "text/html": [
       "<div>\n",
       "<style scoped>\n",
       "    .dataframe tbody tr th:only-of-type {\n",
       "        vertical-align: middle;\n",
       "    }\n",
       "\n",
       "    .dataframe tbody tr th {\n",
       "        vertical-align: top;\n",
       "    }\n",
       "\n",
       "    .dataframe thead th {\n",
       "        text-align: right;\n",
       "    }\n",
       "</style>\n",
       "<table border=\"1\" class=\"dataframe\">\n",
       "  <thead>\n",
       "    <tr style=\"text-align: right;\">\n",
       "      <th></th>\n",
       "      <th>Model</th>\n",
       "      <th>train_score</th>\n",
       "      <th>test_score</th>\n",
       "    </tr>\n",
       "  </thead>\n",
       "  <tbody>\n",
       "    <tr>\n",
       "      <td>0</td>\n",
       "      <td>Logistic Regression</td>\n",
       "      <td>1.0</td>\n",
       "      <td>1.0</td>\n",
       "    </tr>\n",
       "  </tbody>\n",
       "</table>\n",
       "</div>"
      ],
      "text/plain": [
       "                 Model  train_score  test_score\n",
       "0  Logistic Regression          1.0         1.0"
      ]
     },
     "execution_count": 25,
     "metadata": {},
     "output_type": "execute_result"
    }
   ],
   "source": [
    "get_auc_scores(pca_train,pca_test,y_train,y_test,models)"
   ]
  },
  {
   "cell_type": "code",
   "execution_count": 26,
   "metadata": {},
   "outputs": [
    {
     "name": "stdout",
     "output_type": "stream",
     "text": [
      "For Train Data:\n",
      "\n",
      "[[10603  5424]\n",
      " [ 5875  9813]]\n",
      "              precision    recall  f1-score   support\n",
      "\n",
      "           0       0.64      0.66      0.65     16027\n",
      "           1       0.64      0.63      0.63     15688\n",
      "\n",
      "    accuracy                           0.64     31715\n",
      "   macro avg       0.64      0.64      0.64     31715\n",
      "weighted avg       0.64      0.64      0.64     31715\n",
      "\n",
      "For Test Data:\n",
      "\n",
      "[[2667 1388]\n",
      " [1486 2388]]\n",
      "              precision    recall  f1-score   support\n",
      "\n",
      "           0       0.64      0.66      0.65      4055\n",
      "           1       0.63      0.62      0.62      3874\n",
      "\n",
      "    accuracy                           0.64      7929\n",
      "   macro avg       0.64      0.64      0.64      7929\n",
      "weighted avg       0.64      0.64      0.64      7929\n",
      "\n"
     ]
    },
    {
     "data": {
      "image/png": "[encoded data removed]",
      "text/plain": [
       "<Figure size 432x288 with 1 Axes>"
      ]
     },
     "metadata": {
      "needs_background": "light"
     },
     "output_type": "display_data"
    }
   ],
   "source": [
    "plot_roc_auc_curve(pca_train,pca_test,y_train,y_test,models)"
   ]
  },
  {
   "cell_type": "markdown",
   "metadata": {},
   "source": [
    "### 2. Descision Tree"
   ]
  },
  {
   "cell_type": "code",
   "execution_count": 27,
   "metadata": {},
   "outputs": [
    {
     "data": {
      "text/html": [
       "<div>\n",
       "<style scoped>\n",
       "    .dataframe tbody tr th:only-of-type {\n",
       "        vertical-align: middle;\n",
       "    }\n",
       "\n",
       "    .dataframe tbody tr th {\n",
       "        vertical-align: top;\n",
       "    }\n",
       "\n",
       "    .dataframe thead th {\n",
       "        text-align: right;\n",
       "    }\n",
       "</style>\n",
       "<table border=\"1\" class=\"dataframe\">\n",
       "  <thead>\n",
       "    <tr style=\"text-align: right;\">\n",
       "      <th></th>\n",
       "      <th>Model</th>\n",
       "      <th>train_score</th>\n",
       "      <th>test_score</th>\n",
       "    </tr>\n",
       "  </thead>\n",
       "  <tbody>\n",
       "    <tr>\n",
       "      <td>0</td>\n",
       "      <td>DT</td>\n",
       "      <td>1.0</td>\n",
       "      <td>1.0</td>\n",
       "    </tr>\n",
       "  </tbody>\n",
       "</table>\n",
       "</div>"
      ],
      "text/plain": [
       "  Model  train_score  test_score\n",
       "0    DT          1.0         1.0"
      ]
     },
     "execution_count": 27,
     "metadata": {},
     "output_type": "execute_result"
    }
   ],
   "source": [
    "DT = DecisionTreeClassifier(random_state = 0)\n",
    "\n",
    "models = []\n",
    "models.append(('DT', DT))\n",
    "\n",
    "get_auc_scores(pca_train,pca_test,y_train,y_test,models)\n"
   ]
  },
  {
   "cell_type": "code",
   "execution_count": 28,
   "metadata": {},
   "outputs": [
    {
     "name": "stdout",
     "output_type": "stream",
     "text": [
      "For Train Data:\n",
      "\n",
      "[[16027     0]\n",
      " [    0 15688]]\n",
      "              precision    recall  f1-score   support\n",
      "\n",
      "           0       1.00      1.00      1.00     16027\n",
      "           1       1.00      1.00      1.00     15688\n",
      "\n",
      "    accuracy                           1.00     31715\n",
      "   macro avg       1.00      1.00      1.00     31715\n",
      "weighted avg       1.00      1.00      1.00     31715\n",
      "\n",
      "For Test Data:\n",
      "\n",
      "[[2272 1783]\n",
      " [1688 2186]]\n",
      "              precision    recall  f1-score   support\n",
      "\n",
      "           0       0.57      0.56      0.57      4055\n",
      "           1       0.55      0.56      0.56      3874\n",
      "\n",
      "    accuracy                           0.56      7929\n",
      "   macro avg       0.56      0.56      0.56      7929\n",
      "weighted avg       0.56      0.56      0.56      7929\n",
      "\n"
     ]
    },
    {
     "data": {
      "image/png": "[encoded data removed]",
      "text/plain": [
       "<Figure size 432x288 with 1 Axes>"
      ]
     },
     "metadata": {
      "needs_background": "light"
     },
     "output_type": "display_data"
    }
   ],
   "source": [
    "plot_roc_auc_curve(pca_train,pca_test,y_train,y_test,models)"
   ]
  },
  {
   "cell_type": "markdown",
   "metadata": {},
   "source": [
    "## Ensemble Models"
   ]
  },
  {
   "cell_type": "markdown",
   "metadata": {},
   "source": [
    "### 3. Random Forest"
   ]
  },
  {
   "cell_type": "code",
   "execution_count": 29,
   "metadata": {},
   "outputs": [
    {
     "data": {
      "text/html": [
       "<div>\n",
       "<style scoped>\n",
       "    .dataframe tbody tr th:only-of-type {\n",
       "        vertical-align: middle;\n",
       "    }\n",
       "\n",
       "    .dataframe tbody tr th {\n",
       "        vertical-align: top;\n",
       "    }\n",
       "\n",
       "    .dataframe thead th {\n",
       "        text-align: right;\n",
       "    }\n",
       "</style>\n",
       "<table border=\"1\" class=\"dataframe\">\n",
       "  <thead>\n",
       "    <tr style=\"text-align: right;\">\n",
       "      <th></th>\n",
       "      <th>Model</th>\n",
       "      <th>train_score</th>\n",
       "      <th>test_score</th>\n",
       "    </tr>\n",
       "  </thead>\n",
       "  <tbody>\n",
       "    <tr>\n",
       "      <td>0</td>\n",
       "      <td>RF</td>\n",
       "      <td>1.0</td>\n",
       "      <td>1.0</td>\n",
       "    </tr>\n",
       "  </tbody>\n",
       "</table>\n",
       "</div>"
      ],
      "text/plain": [
       "  Model  train_score  test_score\n",
       "0    RF          1.0         1.0"
      ]
     },
     "execution_count": 29,
     "metadata": {},
     "output_type": "execute_result"
    }
   ],
   "source": [
    "RF = RandomForestClassifier(random_state = 0)\n",
    "\n",
    "models = []\n",
    "models.append(('RF', RF))\n",
    "\n",
    "get_auc_scores(pca_train,pca_test,y_train,y_test,models)"
   ]
  },
  {
   "cell_type": "code",
   "execution_count": 30,
   "metadata": {},
   "outputs": [
    {
     "name": "stdout",
     "output_type": "stream",
     "text": [
      "For Train Data:\n",
      "\n",
      "[[16027     0]\n",
      " [    0 15688]]\n",
      "              precision    recall  f1-score   support\n",
      "\n",
      "           0       1.00      1.00      1.00     16027\n",
      "           1       1.00      1.00      1.00     15688\n",
      "\n",
      "    accuracy                           1.00     31715\n",
      "   macro avg       1.00      1.00      1.00     31715\n",
      "weighted avg       1.00      1.00      1.00     31715\n",
      "\n",
      "For Test Data:\n",
      "\n",
      "[[2687 1368]\n",
      " [1408 2466]]\n",
      "              precision    recall  f1-score   support\n",
      "\n",
      "           0       0.66      0.66      0.66      4055\n",
      "           1       0.64      0.64      0.64      3874\n",
      "\n",
      "    accuracy                           0.65      7929\n",
      "   macro avg       0.65      0.65      0.65      7929\n",
      "weighted avg       0.65      0.65      0.65      7929\n",
      "\n"
     ]
    },
    {
     "data": {
      "image/png": "[encoded data removed]",
      "text/plain": [
       "<Figure size 432x288 with 1 Axes>"
      ]
     },
     "metadata": {
      "needs_background": "light"
     },
     "output_type": "display_data"
    }
   ],
   "source": [
    "plot_roc_auc_curve(pca_train,pca_test,y_train,y_test,models)"
   ]
  },
  {
   "cell_type": "code",
   "execution_count": null,
   "metadata": {},
   "outputs": [],
   "source": []
  },
  {
   "cell_type": "markdown",
   "metadata": {},
   "source": [
    "### 4. AdaBoost RF"
   ]
  },
  {
   "cell_type": "code",
   "execution_count": 32,
   "metadata": {},
   "outputs": [
    {
     "data": {
      "text/html": [
       "<div>\n",
       "<style scoped>\n",
       "    .dataframe tbody tr th:only-of-type {\n",
       "        vertical-align: middle;\n",
       "    }\n",
       "\n",
       "    .dataframe tbody tr th {\n",
       "        vertical-align: top;\n",
       "    }\n",
       "\n",
       "    .dataframe thead th {\n",
       "        text-align: right;\n",
       "    }\n",
       "</style>\n",
       "<table border=\"1\" class=\"dataframe\">\n",
       "  <thead>\n",
       "    <tr style=\"text-align: right;\">\n",
       "      <th></th>\n",
       "      <th>Model</th>\n",
       "      <th>train_score</th>\n",
       "      <th>test_score</th>\n",
       "    </tr>\n",
       "  </thead>\n",
       "  <tbody>\n",
       "    <tr>\n",
       "      <td>0</td>\n",
       "      <td>AB RF</td>\n",
       "      <td>1.0</td>\n",
       "      <td>1.0</td>\n",
       "    </tr>\n",
       "  </tbody>\n",
       "</table>\n",
       "</div>"
      ],
      "text/plain": [
       "   Model  train_score  test_score\n",
       "0  AB RF          1.0         1.0"
      ]
     },
     "execution_count": 32,
     "metadata": {},
     "output_type": "execute_result"
    }
   ],
   "source": [
    "AB_RF = AdaBoostClassifier(base_estimator = RF, n_estimators = 10, random_state = 0)\n",
    "\n",
    "models = []\n",
    "models.append(('AB RF', AB_RF))\n",
    "\n",
    "get_auc_scores(pca_train,pca_test,y_train,y_test,models)"
   ]
  },
  {
   "cell_type": "code",
   "execution_count": 33,
   "metadata": {},
   "outputs": [
    {
     "name": "stdout",
     "output_type": "stream",
     "text": [
      "For Train Data:\n",
      "\n",
      "[[16027     0]\n",
      " [    0 15688]]\n",
      "              precision    recall  f1-score   support\n",
      "\n",
      "           0       1.00      1.00      1.00     16027\n",
      "           1       1.00      1.00      1.00     15688\n",
      "\n",
      "    accuracy                           1.00     31715\n",
      "   macro avg       1.00      1.00      1.00     31715\n",
      "weighted avg       1.00      1.00      1.00     31715\n",
      "\n",
      "For Test Data:\n",
      "\n",
      "[[2679 1376]\n",
      " [1469 2405]]\n",
      "              precision    recall  f1-score   support\n",
      "\n",
      "           0       0.65      0.66      0.65      4055\n",
      "           1       0.64      0.62      0.63      3874\n",
      "\n",
      "    accuracy                           0.64      7929\n",
      "   macro avg       0.64      0.64      0.64      7929\n",
      "weighted avg       0.64      0.64      0.64      7929\n",
      "\n"
     ]
    },
    {
     "data": {
      "image/png": "[encoded data removed]",
      "text/plain": [
       "<Figure size 432x288 with 1 Axes>"
      ]
     },
     "metadata": {
      "needs_background": "light"
     },
     "output_type": "display_data"
    }
   ],
   "source": [
    "plot_roc_auc_curve(pca_train,pca_test,y_train,y_test,models)"
   ]
  },
  {
   "cell_type": "markdown",
   "metadata": {},
   "source": [
    "### 5. Adaboost DT"
   ]
  },
  {
   "cell_type": "code",
   "execution_count": 34,
   "metadata": {},
   "outputs": [
    {
     "data": {
      "text/html": [
       "<div>\n",
       "<style scoped>\n",
       "    .dataframe tbody tr th:only-of-type {\n",
       "        vertical-align: middle;\n",
       "    }\n",
       "\n",
       "    .dataframe tbody tr th {\n",
       "        vertical-align: top;\n",
       "    }\n",
       "\n",
       "    .dataframe thead th {\n",
       "        text-align: right;\n",
       "    }\n",
       "</style>\n",
       "<table border=\"1\" class=\"dataframe\">\n",
       "  <thead>\n",
       "    <tr style=\"text-align: right;\">\n",
       "      <th></th>\n",
       "      <th>Model</th>\n",
       "      <th>train_score</th>\n",
       "      <th>test_score</th>\n",
       "    </tr>\n",
       "  </thead>\n",
       "  <tbody>\n",
       "    <tr>\n",
       "      <td>0</td>\n",
       "      <td>AB DT</td>\n",
       "      <td>1.0</td>\n",
       "      <td>1.0</td>\n",
       "    </tr>\n",
       "  </tbody>\n",
       "</table>\n",
       "</div>"
      ],
      "text/plain": [
       "   Model  train_score  test_score\n",
       "0  AB DT          1.0         1.0"
      ]
     },
     "execution_count": 34,
     "metadata": {},
     "output_type": "execute_result"
    }
   ],
   "source": [
    "AB_DT = AdaBoostClassifier(base_estimator = DT, n_estimators = 10, random_state = 0)\n",
    "\n",
    "models = []\n",
    "models.append(('AB DT', AB_DT))\n",
    "\n",
    "get_auc_scores(pca_train,pca_test,y_train,y_test,models)"
   ]
  },
  {
   "cell_type": "code",
   "execution_count": 35,
   "metadata": {},
   "outputs": [
    {
     "name": "stdout",
     "output_type": "stream",
     "text": [
      "For Train Data:\n",
      "\n",
      "[[16027     0]\n",
      " [    0 15688]]\n",
      "              precision    recall  f1-score   support\n",
      "\n",
      "           0       1.00      1.00      1.00     16027\n",
      "           1       1.00      1.00      1.00     15688\n",
      "\n",
      "    accuracy                           1.00     31715\n",
      "   macro avg       1.00      1.00      1.00     31715\n",
      "weighted avg       1.00      1.00      1.00     31715\n",
      "\n",
      "For Test Data:\n",
      "\n",
      "[[2280 1775]\n",
      " [1697 2177]]\n",
      "              precision    recall  f1-score   support\n",
      "\n",
      "           0       0.57      0.56      0.57      4055\n",
      "           1       0.55      0.56      0.56      3874\n",
      "\n",
      "    accuracy                           0.56      7929\n",
      "   macro avg       0.56      0.56      0.56      7929\n",
      "weighted avg       0.56      0.56      0.56      7929\n",
      "\n"
     ]
    },
    {
     "data": {
      "image/png": "[encoded data removed]",
      "text/plain": [
       "<Figure size 432x288 with 1 Axes>"
      ]
     },
     "metadata": {
      "needs_background": "light"
     },
     "output_type": "display_data"
    }
   ],
   "source": [
    "plot_roc_auc_curve(pca_train,pca_test,y_train,y_test,models)"
   ]
  },
  {
   "cell_type": "markdown",
   "metadata": {},
   "source": [
    "### 6. Gradient Boost"
   ]
  },
  {
   "cell_type": "code",
   "execution_count": 36,
   "metadata": {},
   "outputs": [
    {
     "data": {
      "text/html": [
       "<div>\n",
       "<style scoped>\n",
       "    .dataframe tbody tr th:only-of-type {\n",
       "        vertical-align: middle;\n",
       "    }\n",
       "\n",
       "    .dataframe tbody tr th {\n",
       "        vertical-align: top;\n",
       "    }\n",
       "\n",
       "    .dataframe thead th {\n",
       "        text-align: right;\n",
       "    }\n",
       "</style>\n",
       "<table border=\"1\" class=\"dataframe\">\n",
       "  <thead>\n",
       "    <tr style=\"text-align: right;\">\n",
       "      <th></th>\n",
       "      <th>Model</th>\n",
       "      <th>train_score</th>\n",
       "      <th>test_score</th>\n",
       "    </tr>\n",
       "  </thead>\n",
       "  <tbody>\n",
       "    <tr>\n",
       "      <td>0</td>\n",
       "      <td>GB</td>\n",
       "      <td>1.0</td>\n",
       "      <td>1.0</td>\n",
       "    </tr>\n",
       "  </tbody>\n",
       "</table>\n",
       "</div>"
      ],
      "text/plain": [
       "  Model  train_score  test_score\n",
       "0    GB          1.0         1.0"
      ]
     },
     "execution_count": 36,
     "metadata": {},
     "output_type": "execute_result"
    }
   ],
   "source": [
    "GB = GradientBoostingClassifier(n_estimators = 10, random_state = 0)\n",
    "\n",
    "models = []\n",
    "models.append(('GB', GB))\n",
    "\n",
    "get_auc_scores(pca_train,pca_test,y_train,y_test,models)"
   ]
  },
  {
   "cell_type": "code",
   "execution_count": 37,
   "metadata": {},
   "outputs": [
    {
     "name": "stdout",
     "output_type": "stream",
     "text": [
      "For Train Data:\n",
      "\n",
      "[[10225  5802]\n",
      " [ 5779  9909]]\n",
      "              precision    recall  f1-score   support\n",
      "\n",
      "           0       0.64      0.64      0.64     16027\n",
      "           1       0.63      0.63      0.63     15688\n",
      "\n",
      "    accuracy                           0.63     31715\n",
      "   macro avg       0.63      0.63      0.63     31715\n",
      "weighted avg       0.63      0.63      0.63     31715\n",
      "\n",
      "For Test Data:\n",
      "\n",
      "[[2510 1545]\n",
      " [1484 2390]]\n",
      "              precision    recall  f1-score   support\n",
      "\n",
      "           0       0.63      0.62      0.62      4055\n",
      "           1       0.61      0.62      0.61      3874\n",
      "\n",
      "    accuracy                           0.62      7929\n",
      "   macro avg       0.62      0.62      0.62      7929\n",
      "weighted avg       0.62      0.62      0.62      7929\n",
      "\n"
     ]
    },
    {
     "data": {
      "image/png": "[encoded data removed]",
      "text/plain": [
       "<Figure size 432x288 with 1 Axes>"
      ]
     },
     "metadata": {
      "needs_background": "light"
     },
     "output_type": "display_data"
    }
   ],
   "source": [
    "plot_roc_auc_curve(pca_train,pca_test,y_train,y_test,models)"
   ]
  },
  {
   "cell_type": "markdown",
   "metadata": {},
   "source": [
    "## Hyper Parameter tuning - Randomized Search CV"
   ]
  },
  {
   "cell_type": "markdown",
   "metadata": {},
   "source": [
    "### 1. Decision Tree"
   ]
  },
  {
   "cell_type": "code",
   "execution_count": 38,
   "metadata": {},
   "outputs": [
    {
     "name": "stdout",
     "output_type": "stream",
     "text": [
      "{'min_samples_split': 9, 'min_samples_leaf': 5, 'max_depth': 8, 'criterion': 'entropy'}\n"
     ]
    }
   ],
   "source": [
    "# Maximum number of levels in tree\n",
    "max_depth = np.arange(2,9,2)\n",
    "\n",
    "# Minimum number of samples required to split a node\n",
    "min_samples_split = [2, 5, 8, 9]\n",
    "\n",
    "# Minimum number of samples required at each leaf node\n",
    "min_samples_leaf = [2, 3, 4,5]\n",
    "\n",
    "dt_params = {'max_depth': max_depth, 'min_samples_leaf': min_samples_leaf,\n",
    "             'criterion':['gini','entropy'], 'min_samples_split' : min_samples_split}\n",
    "\n",
    "dtparam, dtestimator, dtscore = random_search_cv(pca_train,y_train,DT,dt_params)\n",
    "\n",
    "print(dtparam)"
   ]
  },
  {
   "cell_type": "code",
   "execution_count": 39,
   "metadata": {},
   "outputs": [
    {
     "data": {
      "text/html": [
       "<div>\n",
       "<style scoped>\n",
       "    .dataframe tbody tr th:only-of-type {\n",
       "        vertical-align: middle;\n",
       "    }\n",
       "\n",
       "    .dataframe tbody tr th {\n",
       "        vertical-align: top;\n",
       "    }\n",
       "\n",
       "    .dataframe thead th {\n",
       "        text-align: right;\n",
       "    }\n",
       "</style>\n",
       "<table border=\"1\" class=\"dataframe\">\n",
       "  <thead>\n",
       "    <tr style=\"text-align: right;\">\n",
       "      <th></th>\n",
       "      <th>Model</th>\n",
       "      <th>train_score</th>\n",
       "      <th>test_score</th>\n",
       "    </tr>\n",
       "  </thead>\n",
       "  <tbody>\n",
       "    <tr>\n",
       "      <td>0</td>\n",
       "      <td>Tuned DT</td>\n",
       "      <td>1.0</td>\n",
       "      <td>1.0</td>\n",
       "    </tr>\n",
       "  </tbody>\n",
       "</table>\n",
       "</div>"
      ],
      "text/plain": [
       "      Model  train_score  test_score\n",
       "0  Tuned DT          1.0         1.0"
      ]
     },
     "execution_count": 39,
     "metadata": {},
     "output_type": "execute_result"
    }
   ],
   "source": [
    "models = []\n",
    "models.append(('Tuned DT', dtestimator))\n",
    "\n",
    "get_auc_scores(pca_train,pca_test,y_train,y_test,models)"
   ]
  },
  {
   "cell_type": "code",
   "execution_count": 40,
   "metadata": {},
   "outputs": [
    {
     "name": "stdout",
     "output_type": "stream",
     "text": [
      "For Train Data:\n",
      "\n",
      "[[10531  5496]\n",
      " [ 5354 10334]]\n",
      "              precision    recall  f1-score   support\n",
      "\n",
      "           0       0.66      0.66      0.66     16027\n",
      "           1       0.65      0.66      0.66     15688\n",
      "\n",
      "    accuracy                           0.66     31715\n",
      "   macro avg       0.66      0.66      0.66     31715\n",
      "weighted avg       0.66      0.66      0.66     31715\n",
      "\n",
      "For Test Data:\n",
      "\n",
      "[[2461 1594]\n",
      " [1523 2351]]\n",
      "              precision    recall  f1-score   support\n",
      "\n",
      "           0       0.62      0.61      0.61      4055\n",
      "           1       0.60      0.61      0.60      3874\n",
      "\n",
      "    accuracy                           0.61      7929\n",
      "   macro avg       0.61      0.61      0.61      7929\n",
      "weighted avg       0.61      0.61      0.61      7929\n",
      "\n"
     ]
    },
    {
     "data": {
      "image/png": "[encoded data removed]",
      "text/plain": [
       "<Figure size 432x288 with 1 Axes>"
      ]
     },
     "metadata": {
      "needs_background": "light"
     },
     "output_type": "display_data"
    }
   ],
   "source": [
    "plot_roc_auc_curve(pca_train,pca_test,y_train,y_test,models)"
   ]
  },
  {
   "cell_type": "markdown",
   "metadata": {},
   "source": [
    "## Ensemble Models with tuned parameters"
   ]
  },
  {
   "cell_type": "markdown",
   "metadata": {},
   "source": [
    "### 2. Random Forest"
   ]
  },
  {
   "cell_type": "code",
   "execution_count": 41,
   "metadata": {},
   "outputs": [
    {
     "name": "stdout",
     "output_type": "stream",
     "text": [
      "{'n_estimators': 30, 'min_samples_split': 8, 'min_samples_leaf': 4, 'max_depth': 8, 'criterion': 'gini'}\n"
     ]
    }
   ],
   "source": [
    "# Number of trees in random forest\n",
    "n_estimators = np.arange(10,40,10)\n",
    "\n",
    "# Maximum number of levels in tree\n",
    "max_depth =  np.arange(2,9,2)\n",
    "#[int(x) for x in np.linspace(3, 30, num = 11)]\n",
    "#max_depth.append(None)\n",
    "\n",
    "# Minimum number of samples required to split a node\n",
    "min_samples_split = [2, 5, 8, 9]\n",
    "\n",
    "# Minimum number of samples required at each leaf node\n",
    "min_samples_leaf = [2, 3, 4, 5]\n",
    "\n",
    "\n",
    "rf_params = {'n_estimators': n_estimators, 'criterion':['gini','entropy'], \n",
    "             'max_depth': max_depth, 'min_samples_leaf': min_samples_leaf, 'min_samples_split': min_samples_split }\n",
    "\n",
    "rfparam, rfestimator, rfscore = random_search_cv(pca_train,y_train,RF,rf_params)\n",
    "\n",
    "print(rfparam)"
   ]
  },
  {
   "cell_type": "code",
   "execution_count": 100,
   "metadata": {},
   "outputs": [
    {
     "data": {
      "text/html": [
       "<div>\n",
       "<style scoped>\n",
       "    .dataframe tbody tr th:only-of-type {\n",
       "        vertical-align: middle;\n",
       "    }\n",
       "\n",
       "    .dataframe tbody tr th {\n",
       "        vertical-align: top;\n",
       "    }\n",
       "\n",
       "    .dataframe thead th {\n",
       "        text-align: right;\n",
       "    }\n",
       "</style>\n",
       "<table border=\"1\" class=\"dataframe\">\n",
       "  <thead>\n",
       "    <tr style=\"text-align: right;\">\n",
       "      <th></th>\n",
       "      <th>Model</th>\n",
       "      <th>train_score</th>\n",
       "      <th>test_score</th>\n",
       "    </tr>\n",
       "  </thead>\n",
       "  <tbody>\n",
       "    <tr>\n",
       "      <td>0</td>\n",
       "      <td>Tuned RF</td>\n",
       "      <td>1.0</td>\n",
       "      <td>1.0</td>\n",
       "    </tr>\n",
       "  </tbody>\n",
       "</table>\n",
       "</div>"
      ],
      "text/plain": [
       "      Model  train_score  test_score\n",
       "0  Tuned RF          1.0         1.0"
      ]
     },
     "execution_count": 100,
     "metadata": {},
     "output_type": "execute_result"
    }
   ],
   "source": [
    "models = []\n",
    "models.append(('Tuned RF', rfestimator))\n",
    "\n",
    "get_auc_scores(pca_train,pca_test,y_train,y_test,models)"
   ]
  },
  {
   "cell_type": "code",
   "execution_count": 101,
   "metadata": {},
   "outputs": [
    {
     "name": "stdout",
     "output_type": "stream",
     "text": [
      "For Train Data:\n",
      "\n",
      "[[11362  4665]\n",
      " [ 5125 10563]]\n",
      "              precision    recall  f1-score   support\n",
      "\n",
      "           0       0.69      0.71      0.70     16027\n",
      "           1       0.69      0.67      0.68     15688\n",
      "\n",
      "    accuracy                           0.69     31715\n",
      "   macro avg       0.69      0.69      0.69     31715\n",
      "weighted avg       0.69      0.69      0.69     31715\n",
      "\n",
      "For Test Data:\n",
      "\n",
      "[[2664 1391]\n",
      " [1427 2447]]\n",
      "              precision    recall  f1-score   support\n",
      "\n",
      "           0       0.65      0.66      0.65      4055\n",
      "           1       0.64      0.63      0.63      3874\n",
      "\n",
      "    accuracy                           0.64      7929\n",
      "   macro avg       0.64      0.64      0.64      7929\n",
      "weighted avg       0.64      0.64      0.64      7929\n",
      "\n"
     ]
    },
    {
     "data": {
      "image/png": "[encoded data removed]",
      "text/plain": [
       "<Figure size 432x288 with 1 Axes>"
      ]
     },
     "metadata": {
      "needs_background": "light"
     },
     "output_type": "display_data"
    }
   ],
   "source": [
    "plot_roc_auc_curve(pca_train,pca_test,y_train,y_test,models)"
   ]
  },
  {
   "cell_type": "markdown",
   "metadata": {},
   "source": [
    "### 3. AdaBoost RF"
   ]
  },
  {
   "cell_type": "code",
   "execution_count": 102,
   "metadata": {},
   "outputs": [
    {
     "data": {
      "text/html": [
       "<div>\n",
       "<style scoped>\n",
       "    .dataframe tbody tr th:only-of-type {\n",
       "        vertical-align: middle;\n",
       "    }\n",
       "\n",
       "    .dataframe tbody tr th {\n",
       "        vertical-align: top;\n",
       "    }\n",
       "\n",
       "    .dataframe thead th {\n",
       "        text-align: right;\n",
       "    }\n",
       "</style>\n",
       "<table border=\"1\" class=\"dataframe\">\n",
       "  <thead>\n",
       "    <tr style=\"text-align: right;\">\n",
       "      <th></th>\n",
       "      <th>Model</th>\n",
       "      <th>train_score</th>\n",
       "      <th>test_score</th>\n",
       "    </tr>\n",
       "  </thead>\n",
       "  <tbody>\n",
       "    <tr>\n",
       "      <td>0</td>\n",
       "      <td>AB RF</td>\n",
       "      <td>1.0</td>\n",
       "      <td>1.0</td>\n",
       "    </tr>\n",
       "  </tbody>\n",
       "</table>\n",
       "</div>"
      ],
      "text/plain": [
       "   Model  train_score  test_score\n",
       "0  AB RF          1.0         1.0"
      ]
     },
     "execution_count": 102,
     "metadata": {},
     "output_type": "execute_result"
    }
   ],
   "source": [
    "AB_RF = AdaBoostClassifier(base_estimator = rfestimator, n_estimators = 15, random_state = 0)\n",
    "\n",
    "models = []\n",
    "models.append(('AB RF', AB_RF))\n",
    "\n",
    "get_auc_scores(pca_train,pca_test,y_train,y_test,models)"
   ]
  },
  {
   "cell_type": "code",
   "execution_count": 103,
   "metadata": {},
   "outputs": [
    {
     "name": "stdout",
     "output_type": "stream",
     "text": [
      "For Train Data:\n",
      "\n",
      "[[14527  1500]\n",
      " [ 2435 13253]]\n",
      "              precision    recall  f1-score   support\n",
      "\n",
      "           0       0.86      0.91      0.88     16027\n",
      "           1       0.90      0.84      0.87     15688\n",
      "\n",
      "    accuracy                           0.88     31715\n",
      "   macro avg       0.88      0.88      0.88     31715\n",
      "weighted avg       0.88      0.88      0.88     31715\n",
      "\n",
      "For Test Data:\n",
      "\n",
      "[[2720 1335]\n",
      " [1446 2428]]\n",
      "              precision    recall  f1-score   support\n",
      "\n",
      "           0       0.65      0.67      0.66      4055\n",
      "           1       0.65      0.63      0.64      3874\n",
      "\n",
      "    accuracy                           0.65      7929\n",
      "   macro avg       0.65      0.65      0.65      7929\n",
      "weighted avg       0.65      0.65      0.65      7929\n",
      "\n"
     ]
    },
    {
     "data": {
      "image/png": "[encoded data removed]",
      "text/plain": [
       "<Figure size 432x288 with 1 Axes>"
      ]
     },
     "metadata": {
      "needs_background": "light"
     },
     "output_type": "display_data"
    }
   ],
   "source": [
    "plot_roc_auc_curve(pca_train,pca_test,y_train,y_test,models)"
   ]
  },
  {
   "cell_type": "markdown",
   "metadata": {},
   "source": [
    "### 4. AdaBoost DT"
   ]
  },
  {
   "cell_type": "code",
   "execution_count": 104,
   "metadata": {},
   "outputs": [
    {
     "data": {
      "text/html": [
       "<div>\n",
       "<style scoped>\n",
       "    .dataframe tbody tr th:only-of-type {\n",
       "        vertical-align: middle;\n",
       "    }\n",
       "\n",
       "    .dataframe tbody tr th {\n",
       "        vertical-align: top;\n",
       "    }\n",
       "\n",
       "    .dataframe thead th {\n",
       "        text-align: right;\n",
       "    }\n",
       "</style>\n",
       "<table border=\"1\" class=\"dataframe\">\n",
       "  <thead>\n",
       "    <tr style=\"text-align: right;\">\n",
       "      <th></th>\n",
       "      <th>Model</th>\n",
       "      <th>train_score</th>\n",
       "      <th>test_score</th>\n",
       "    </tr>\n",
       "  </thead>\n",
       "  <tbody>\n",
       "    <tr>\n",
       "      <td>0</td>\n",
       "      <td>AB DT</td>\n",
       "      <td>1.0</td>\n",
       "      <td>1.0</td>\n",
       "    </tr>\n",
       "  </tbody>\n",
       "</table>\n",
       "</div>"
      ],
      "text/plain": [
       "   Model  train_score  test_score\n",
       "0  AB DT          1.0         1.0"
      ]
     },
     "execution_count": 104,
     "metadata": {},
     "output_type": "execute_result"
    }
   ],
   "source": [
    "AB_DT = AdaBoostClassifier(base_estimator = dtestimator, n_estimators = 10, random_state = 0)\n",
    "\n",
    "models = []\n",
    "models.append(('AB DT', AB_DT))\n",
    "\n",
    "get_auc_scores(pca_train,pca_test,y_train,y_test,models)"
   ]
  },
  {
   "cell_type": "code",
   "execution_count": 105,
   "metadata": {},
   "outputs": [
    {
     "name": "stdout",
     "output_type": "stream",
     "text": [
      "For Train Data:\n",
      "\n",
      "[[11506  4521]\n",
      " [ 5165 10523]]\n",
      "              precision    recall  f1-score   support\n",
      "\n",
      "           0       0.69      0.72      0.70     16027\n",
      "           1       0.70      0.67      0.68     15688\n",
      "\n",
      "    accuracy                           0.69     31715\n",
      "   macro avg       0.69      0.69      0.69     31715\n",
      "weighted avg       0.69      0.69      0.69     31715\n",
      "\n",
      "For Test Data:\n",
      "\n",
      "[[2632 1423]\n",
      " [1660 2214]]\n",
      "              precision    recall  f1-score   support\n",
      "\n",
      "           0       0.61      0.65      0.63      4055\n",
      "           1       0.61      0.57      0.59      3874\n",
      "\n",
      "    accuracy                           0.61      7929\n",
      "   macro avg       0.61      0.61      0.61      7929\n",
      "weighted avg       0.61      0.61      0.61      7929\n",
      "\n"
     ]
    },
    {
     "data": {
      "image/png": "[encoded data removed]",
      "text/plain": [
       "<Figure size 432x288 with 1 Axes>"
      ]
     },
     "metadata": {
      "needs_background": "light"
     },
     "output_type": "display_data"
    }
   ],
   "source": [
    "plot_roc_auc_curve(pca_train,pca_test,y_train,y_test,models)"
   ]
  },
  {
   "cell_type": "markdown",
   "metadata": {},
   "source": [
    "### 5. Gradient Boost"
   ]
  },
  {
   "cell_type": "code",
   "execution_count": 106,
   "metadata": {},
   "outputs": [
    {
     "data": {
      "text/html": [
       "<div>\n",
       "<style scoped>\n",
       "    .dataframe tbody tr th:only-of-type {\n",
       "        vertical-align: middle;\n",
       "    }\n",
       "\n",
       "    .dataframe tbody tr th {\n",
       "        vertical-align: top;\n",
       "    }\n",
       "\n",
       "    .dataframe thead th {\n",
       "        text-align: right;\n",
       "    }\n",
       "</style>\n",
       "<table border=\"1\" class=\"dataframe\">\n",
       "  <thead>\n",
       "    <tr style=\"text-align: right;\">\n",
       "      <th></th>\n",
       "      <th>Model</th>\n",
       "      <th>train_score</th>\n",
       "      <th>test_score</th>\n",
       "    </tr>\n",
       "  </thead>\n",
       "  <tbody>\n",
       "    <tr>\n",
       "      <td>0</td>\n",
       "      <td>GB</td>\n",
       "      <td>1.0</td>\n",
       "      <td>1.0</td>\n",
       "    </tr>\n",
       "  </tbody>\n",
       "</table>\n",
       "</div>"
      ],
      "text/plain": [
       "  Model  train_score  test_score\n",
       "0    GB          1.0         1.0"
      ]
     },
     "execution_count": 106,
     "metadata": {},
     "output_type": "execute_result"
    }
   ],
   "source": [
    "GB = GradientBoostingClassifier(n_estimators = 20, random_state = 0)\n",
    "\n",
    "models = []\n",
    "models.append(('GB', GB))\n",
    "\n",
    "get_auc_scores(pca_train,pca_test,y_train,y_test,models)"
   ]
  },
  {
   "cell_type": "code",
   "execution_count": 107,
   "metadata": {},
   "outputs": [
    {
     "name": "stdout",
     "output_type": "stream",
     "text": [
      "For Train Data:\n",
      "\n",
      "[[ 9850  6177]\n",
      " [ 5266 10422]]\n",
      "              precision    recall  f1-score   support\n",
      "\n",
      "           0       0.65      0.61      0.63     16027\n",
      "           1       0.63      0.66      0.65     15688\n",
      "\n",
      "    accuracy                           0.64     31715\n",
      "   macro avg       0.64      0.64      0.64     31715\n",
      "weighted avg       0.64      0.64      0.64     31715\n",
      "\n",
      "For Test Data:\n",
      "\n",
      "[[2460 1595]\n",
      " [1306 2568]]\n",
      "              precision    recall  f1-score   support\n",
      "\n",
      "           0       0.65      0.61      0.63      4055\n",
      "           1       0.62      0.66      0.64      3874\n",
      "\n",
      "    accuracy                           0.63      7929\n",
      "   macro avg       0.64      0.63      0.63      7929\n",
      "weighted avg       0.64      0.63      0.63      7929\n",
      "\n"
     ]
    },
    {
     "data": {
      "image/png": "[encoded data removed]",
      "text/plain": [
       "<Figure size 432x288 with 1 Axes>"
      ]
     },
     "metadata": {
      "needs_background": "light"
     },
     "output_type": "display_data"
    }
   ],
   "source": [
    "plot_roc_auc_curve(pca_train,pca_test,y_train,y_test,models)"
   ]
  },
  {
   "cell_type": "markdown",
   "metadata": {},
   "source": [
    "## Inference:\n",
    "\n",
    "Note : the data is split in the train test ratio of 80:20\n",
    "\n",
    "the roc_auc_scores for each model remain the same as 1.\n",
    "\n",
    "So, used 'Accuracy' as the evaluation metric.\n",
    "\n",
    "from the above models it is observed that, the hypertuned RF with AdaBoost performs well having an accuracy of 65% on the test data\n",
    "\n"
   ]
  },
  {
   "cell_type": "code",
   "execution_count": null,
   "metadata": {},
   "outputs": [],
   "source": []
  },
  {
   "cell_type": "code",
   "execution_count": null,
   "metadata": {},
   "outputs": [],
   "source": []
  }
 ],
 "metadata": {
  "kernelspec": {
   "display_name": "Python 3",
   "language": "python",
   "name": "python3"
  },
  "language_info": {
   "codemirror_mode": {
    "name": "ipython",
    "version": 3
   },
   "file_extension": ".py",
   "mimetype": "text/x-python",
   "name": "python",
   "nbconvert_exporter": "python",
   "pygments_lexer": "ipython3",
   "version": "3.7.4"
  }
 },
 "nbformat": 4,
 "nbformat_minor": 2
}

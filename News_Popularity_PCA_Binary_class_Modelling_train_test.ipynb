{
 "cells": [
  {
   "cell_type": "markdown",
   "metadata": {},
   "source": [
    "# Binary Classification with PCA"
   ]
  },
  {
   "cell_type": "markdown",
   "metadata": {},
   "source": [
    "## 1. Reading Data"
   ]
  },
  {
   "cell_type": "code",
   "execution_count": 6,
   "metadata": {},
   "outputs": [],
   "source": [
    "import pandas as pd\n",
    "import numpy as np\n",
    "import matplotlib.pyplot as plt\n",
    "import seaborn as sns\n",
    "import os\n",
    "os.chdir('E:/PGP-DSE/Capstone Project/Group 2/OnlineNewsPopularity')\n",
    "\n",
    "from warnings import simplefilter \n",
    "simplefilter(action='ignore', category=FutureWarning) # ignore all future warnings"
   ]
  },
  {
   "cell_type": "code",
   "execution_count": 7,
   "metadata": {},
   "outputs": [],
   "source": [
    "df = pd.read_csv('ONPClass.csv')"
   ]
  },
  {
   "cell_type": "code",
   "execution_count": 8,
   "metadata": {},
   "outputs": [
    {
     "data": {
      "text/html": [
       "<div>\n",
       "<style scoped>\n",
       "    .dataframe tbody tr th:only-of-type {\n",
       "        vertical-align: middle;\n",
       "    }\n",
       "\n",
       "    .dataframe tbody tr th {\n",
       "        vertical-align: top;\n",
       "    }\n",
       "\n",
       "    .dataframe thead th {\n",
       "        text-align: right;\n",
       "    }\n",
       "</style>\n",
       "<table border=\"1\" class=\"dataframe\">\n",
       "  <thead>\n",
       "    <tr style=\"text-align: right;\">\n",
       "      <th></th>\n",
       "      <th>url</th>\n",
       "      <th>timedelta</th>\n",
       "      <th>n_tokens_title</th>\n",
       "      <th>n_tokens_content</th>\n",
       "      <th>n_unique_tokens</th>\n",
       "      <th>n_non_stop_words</th>\n",
       "      <th>n_non_stop_unique_tokens</th>\n",
       "      <th>num_hrefs</th>\n",
       "      <th>num_self_hrefs</th>\n",
       "      <th>num_imgs</th>\n",
       "      <th>...</th>\n",
       "      <th>min_positive_polarity</th>\n",
       "      <th>max_positive_polarity</th>\n",
       "      <th>avg_negative_polarity</th>\n",
       "      <th>min_negative_polarity</th>\n",
       "      <th>max_negative_polarity</th>\n",
       "      <th>title_subjectivity</th>\n",
       "      <th>title_sentiment_polarity</th>\n",
       "      <th>abs_title_subjectivity</th>\n",
       "      <th>abs_title_sentiment_polarity</th>\n",
       "      <th>class</th>\n",
       "    </tr>\n",
       "  </thead>\n",
       "  <tbody>\n",
       "    <tr>\n",
       "      <td>0</td>\n",
       "      <td>http://mashable.com/2013/01/07/amazon-instant-...</td>\n",
       "      <td>731.0</td>\n",
       "      <td>12.0</td>\n",
       "      <td>219.0</td>\n",
       "      <td>0.663594</td>\n",
       "      <td>1.0</td>\n",
       "      <td>0.815385</td>\n",
       "      <td>4.0</td>\n",
       "      <td>2.0</td>\n",
       "      <td>1.0</td>\n",
       "      <td>...</td>\n",
       "      <td>0.100000</td>\n",
       "      <td>0.7</td>\n",
       "      <td>-0.350000</td>\n",
       "      <td>-0.600</td>\n",
       "      <td>-0.200000</td>\n",
       "      <td>0.500000</td>\n",
       "      <td>-0.187500</td>\n",
       "      <td>0.000000</td>\n",
       "      <td>0.187500</td>\n",
       "      <td>0</td>\n",
       "    </tr>\n",
       "    <tr>\n",
       "      <td>1</td>\n",
       "      <td>http://mashable.com/2013/01/07/ap-samsung-spon...</td>\n",
       "      <td>731.0</td>\n",
       "      <td>9.0</td>\n",
       "      <td>255.0</td>\n",
       "      <td>0.604743</td>\n",
       "      <td>1.0</td>\n",
       "      <td>0.791946</td>\n",
       "      <td>3.0</td>\n",
       "      <td>1.0</td>\n",
       "      <td>1.0</td>\n",
       "      <td>...</td>\n",
       "      <td>0.033333</td>\n",
       "      <td>0.7</td>\n",
       "      <td>-0.118750</td>\n",
       "      <td>-0.125</td>\n",
       "      <td>-0.100000</td>\n",
       "      <td>0.000000</td>\n",
       "      <td>0.000000</td>\n",
       "      <td>0.500000</td>\n",
       "      <td>0.000000</td>\n",
       "      <td>0</td>\n",
       "    </tr>\n",
       "    <tr>\n",
       "      <td>2</td>\n",
       "      <td>http://mashable.com/2013/01/07/apple-40-billio...</td>\n",
       "      <td>731.0</td>\n",
       "      <td>9.0</td>\n",
       "      <td>211.0</td>\n",
       "      <td>0.575130</td>\n",
       "      <td>1.0</td>\n",
       "      <td>0.663866</td>\n",
       "      <td>3.0</td>\n",
       "      <td>1.0</td>\n",
       "      <td>1.0</td>\n",
       "      <td>...</td>\n",
       "      <td>0.100000</td>\n",
       "      <td>1.0</td>\n",
       "      <td>-0.466667</td>\n",
       "      <td>-0.800</td>\n",
       "      <td>-0.133333</td>\n",
       "      <td>0.000000</td>\n",
       "      <td>0.000000</td>\n",
       "      <td>0.500000</td>\n",
       "      <td>0.000000</td>\n",
       "      <td>1</td>\n",
       "    </tr>\n",
       "    <tr>\n",
       "      <td>3</td>\n",
       "      <td>http://mashable.com/2013/01/07/astronaut-notre...</td>\n",
       "      <td>731.0</td>\n",
       "      <td>9.0</td>\n",
       "      <td>531.0</td>\n",
       "      <td>0.503788</td>\n",
       "      <td>1.0</td>\n",
       "      <td>0.665635</td>\n",
       "      <td>9.0</td>\n",
       "      <td>0.0</td>\n",
       "      <td>1.0</td>\n",
       "      <td>...</td>\n",
       "      <td>0.136364</td>\n",
       "      <td>0.8</td>\n",
       "      <td>-0.369697</td>\n",
       "      <td>-0.600</td>\n",
       "      <td>-0.166667</td>\n",
       "      <td>0.000000</td>\n",
       "      <td>0.000000</td>\n",
       "      <td>0.500000</td>\n",
       "      <td>0.000000</td>\n",
       "      <td>0</td>\n",
       "    </tr>\n",
       "    <tr>\n",
       "      <td>4</td>\n",
       "      <td>http://mashable.com/2013/01/07/att-u-verse-apps/</td>\n",
       "      <td>731.0</td>\n",
       "      <td>13.0</td>\n",
       "      <td>1072.0</td>\n",
       "      <td>0.415646</td>\n",
       "      <td>1.0</td>\n",
       "      <td>0.540890</td>\n",
       "      <td>19.0</td>\n",
       "      <td>19.0</td>\n",
       "      <td>20.0</td>\n",
       "      <td>...</td>\n",
       "      <td>0.033333</td>\n",
       "      <td>1.0</td>\n",
       "      <td>-0.220192</td>\n",
       "      <td>-0.500</td>\n",
       "      <td>-0.050000</td>\n",
       "      <td>0.454545</td>\n",
       "      <td>0.136364</td>\n",
       "      <td>0.045455</td>\n",
       "      <td>0.136364</td>\n",
       "      <td>0</td>\n",
       "    </tr>\n",
       "  </tbody>\n",
       "</table>\n",
       "<p>5 rows × 61 columns</p>\n",
       "</div>"
      ],
      "text/plain": [
       "                                                 url  timedelta  \\\n",
       "0  http://mashable.com/2013/01/07/amazon-instant-...      731.0   \n",
       "1  http://mashable.com/2013/01/07/ap-samsung-spon...      731.0   \n",
       "2  http://mashable.com/2013/01/07/apple-40-billio...      731.0   \n",
       "3  http://mashable.com/2013/01/07/astronaut-notre...      731.0   \n",
       "4   http://mashable.com/2013/01/07/att-u-verse-apps/      731.0   \n",
       "\n",
       "   n_tokens_title  n_tokens_content  n_unique_tokens  n_non_stop_words  \\\n",
       "0            12.0             219.0         0.663594               1.0   \n",
       "1             9.0             255.0         0.604743               1.0   \n",
       "2             9.0             211.0         0.575130               1.0   \n",
       "3             9.0             531.0         0.503788               1.0   \n",
       "4            13.0            1072.0         0.415646               1.0   \n",
       "\n",
       "   n_non_stop_unique_tokens  num_hrefs  num_self_hrefs  num_imgs  ...  \\\n",
       "0                  0.815385        4.0             2.0       1.0  ...   \n",
       "1                  0.791946        3.0             1.0       1.0  ...   \n",
       "2                  0.663866        3.0             1.0       1.0  ...   \n",
       "3                  0.665635        9.0             0.0       1.0  ...   \n",
       "4                  0.540890       19.0            19.0      20.0  ...   \n",
       "\n",
       "   min_positive_polarity  max_positive_polarity  avg_negative_polarity  \\\n",
       "0               0.100000                    0.7              -0.350000   \n",
       "1               0.033333                    0.7              -0.118750   \n",
       "2               0.100000                    1.0              -0.466667   \n",
       "3               0.136364                    0.8              -0.369697   \n",
       "4               0.033333                    1.0              -0.220192   \n",
       "\n",
       "   min_negative_polarity  max_negative_polarity  title_subjectivity  \\\n",
       "0                 -0.600              -0.200000            0.500000   \n",
       "1                 -0.125              -0.100000            0.000000   \n",
       "2                 -0.800              -0.133333            0.000000   \n",
       "3                 -0.600              -0.166667            0.000000   \n",
       "4                 -0.500              -0.050000            0.454545   \n",
       "\n",
       "   title_sentiment_polarity  abs_title_subjectivity  \\\n",
       "0                 -0.187500                0.000000   \n",
       "1                  0.000000                0.500000   \n",
       "2                  0.000000                0.500000   \n",
       "3                  0.000000                0.500000   \n",
       "4                  0.136364                0.045455   \n",
       "\n",
       "   abs_title_sentiment_polarity  class  \n",
       "0                      0.187500      0  \n",
       "1                      0.000000      0  \n",
       "2                      0.000000      1  \n",
       "3                      0.000000      0  \n",
       "4                      0.136364      0  \n",
       "\n",
       "[5 rows x 61 columns]"
      ]
     },
     "execution_count": 8,
     "metadata": {},
     "output_type": "execute_result"
    }
   ],
   "source": [
    "df.head()"
   ]
  },
  {
   "cell_type": "code",
   "execution_count": 9,
   "metadata": {},
   "outputs": [],
   "source": [
    "df = df.drop(['url','timedelta'],axis=1)"
   ]
  },
  {
   "cell_type": "markdown",
   "metadata": {},
   "source": [
    "# Importing libraries required for building models"
   ]
  },
  {
   "cell_type": "code",
   "execution_count": 10,
   "metadata": {},
   "outputs": [],
   "source": [
    "from sklearn.preprocessing import StandardScaler\n",
    "from sklearn.model_selection import train_test_split, cross_validate\n",
    "from sklearn.decomposition import PCA\n",
    "from sklearn import model_selection\n",
    "from sklearn import feature_selection\n",
    "from sklearn.model_selection import GridSearchCV, validation_curve,RandomizedSearchCV\n",
    "from sklearn.linear_model import LogisticRegression\n",
    "from sklearn.neighbors import KNeighborsClassifier\n",
    "from sklearn.tree import DecisionTreeClassifier\n",
    "from sklearn.ensemble import RandomForestClassifier,AdaBoostClassifier,BaggingClassifier,GradientBoostingClassifier\n",
    "from xgboost import XGBClassifier\n",
    "from sklearn.metrics import accuracy_score,confusion_matrix, classification_report, f1_score,roc_auc_score,roc_curve"
   ]
  },
  {
   "cell_type": "code",
   "execution_count": null,
   "metadata": {},
   "outputs": [],
   "source": []
  },
  {
   "cell_type": "markdown",
   "metadata": {},
   "source": [
    "## PART A -  Applying PCA on whole data"
   ]
  },
  {
   "cell_type": "markdown",
   "metadata": {},
   "source": [
    "#### Custom functions"
   ]
  },
  {
   "cell_type": "code",
   "execution_count": 35,
   "metadata": {},
   "outputs": [],
   "source": [
    "# function to standardize the data\n",
    "def std_all_data(x):\n",
    "    sc = StandardScaler()\n",
    "    scaled = sc.fit_transform(x)\n",
    "    return scaled\n",
    "\n",
    "# function to obtain PC's\n",
    "def get_principal_comp(x_scaled):\n",
    "    # Perfroming the PCA\n",
    "    pca = PCA()\n",
    "    pca.fit(x_scaled)\n",
    "\n",
    "    # Apply dimensionality reduction\n",
    "    pc_score = pca.transform(x_scaled)\n",
    "\n",
    "    # explained variance in percentage\n",
    "    exp_var = pca.explained_variance_ratio_\n",
    "\n",
    "    exp_var = np.round(exp_var*100,decimals=1)\n",
    "\n",
    "    cum_var=np.cumsum(exp_var)\n",
    "\n",
    "    ncomp = len(cum_var[cum_var<95])\n",
    "    \n",
    "    labels = ['PC' + str(x) for x in range(1,len(exp_var)+1)]\n",
    "    \n",
    "    # scree plot \n",
    "    plt.figure(figsize=(20,5))\n",
    "    plt.bar(x = range(1,len(exp_var)+1), height=exp_var,tick_label=labels)\n",
    "    plt.xlabel('No. of  Components')\n",
    "    plt.ylabel('percentage of explained variance')\n",
    "    plt.title('Scree Plot')\n",
    "    plt.xticks(rotation=90)\n",
    "    plt.show()\n",
    "    \n",
    "    # Components vs Variance\n",
    "    plt.figure(figsize = (5,5))\n",
    "    plt.plot(cum_var)\n",
    "    plt.xlabel('number of components')\n",
    "    plt.ylabel('cumulative explained variance')\n",
    "    plt.title('Components vs Variance')\n",
    "    plt.show()\n",
    "\n",
    "    print('95% variance is explanied by {} PCs'.format(ncomp))\n",
    "    \n",
    "    return ncomp\n",
    "\n",
    "# function to apply PCA\n",
    "def apply_pca(n,x_scaled):\n",
    "    pca = PCA(n_components = n)\n",
    "    data = pca.fit_transform(x_scaled)\n",
    "    return data\n",
    "\n",
    "# function for applying grid search cv\n",
    "def grid_search_cv(x,y,model,params):\n",
    "    GS = GridSearchCV(model, params, cv = 5, scoring = 'roc_auc')\n",
    "    GS.fit(x,y)\n",
    "    return GS.best_params_, GS.best_estimator_, GS.best_score_\n",
    "\n",
    "# function for applying random search cv\n",
    "def random_search_cv(x,y,model,params):\n",
    "    RS = RandomizedSearchCV(model, params, cv = 5, scoring = 'roc_auc', random_state = 0)\n",
    "    RS.fit(x,y)\n",
    "    return RS.best_params_, RS.best_estimator_, RS.best_score_\n",
    "\n",
    "\n",
    "final = {}\n",
    "results = []\n",
    "names = []\n",
    "auc = []\n",
    "\n",
    "# function to apply cross validation on models build \n",
    "def implement_cv(x,y,models):\n",
    "    for name,model in models:\n",
    "        kfold = model_selection.KFold(shuffle=True,n_splits=5,random_state=0)\n",
    "        cv_results = model_selection.cross_val_score(model,x,y,cv=kfold, scoring='roc_auc')\n",
    "        results.append((np.abs(cv_results)))\n",
    "        auc.append(np.mean(results))\n",
    "        names.append(name)\n"
   ]
  },
  {
   "cell_type": "code",
   "execution_count": 36,
   "metadata": {},
   "outputs": [
    {
     "data": {
      "image/png": "[encoded data removed]",
      "text/plain": [
       "<Figure size 1440x360 with 1 Axes>"
      ]
     },
     "metadata": {
      "needs_background": "light"
     },
     "output_type": "display_data"
    },
    {
     "data": {
      "image/png": "[encoded data removed]",
      "text/plain": [
       "<Figure size 360x360 with 1 Axes>"
      ]
     },
     "metadata": {
      "needs_background": "light"
     },
     "output_type": "display_data"
    },
    {
     "name": "stdout",
     "output_type": "stream",
     "text": [
      "95% variance is explanied by 35 PCs\n"
     ]
    }
   ],
   "source": [
    "X = df.drop(['class'], axis = 1 )\n",
    "\n",
    "Y = df['class']\n",
    "\n",
    "X_scaled = std_all_data(X) # scale data\n",
    "\n",
    "ncomp = get_principal_comp(X_scaled) # obtain principal components\n",
    "\n",
    "pca_data = apply_pca(ncomp,X_scaled) # apply pca on data"
   ]
  },
  {
   "cell_type": "markdown",
   "metadata": {},
   "source": [
    "## Initialize and build the models\n"
   ]
  },
  {
   "cell_type": "markdown",
   "metadata": {},
   "source": [
    "### 1. Logistic Regression"
   ]
  },
  {
   "cell_type": "code",
   "execution_count": 37,
   "metadata": {},
   "outputs": [
    {
     "name": "stdout",
     "output_type": "stream",
     "text": [
      "['Logistic Regression'] [0.6927323804737174]\n"
     ]
    }
   ],
   "source": [
    "\n",
    "LOGREG = LogisticRegression(random_state = 0, max_iter = 1000)\n",
    "\n",
    "models = []\n",
    "models.append(('Logistic Regression',LOGREG))\n",
    "\n",
    "implement_cv(pca_data,Y,models) # function call to fit the model with default parameters\n",
    "print(names,auc)"
   ]
  },
  {
   "cell_type": "markdown",
   "metadata": {},
   "source": [
    "### 2. Decision Tree"
   ]
  },
  {
   "cell_type": "code",
   "execution_count": 38,
   "metadata": {},
   "outputs": [
    {
     "name": "stdout",
     "output_type": "stream",
     "text": [
      "['Logistic Regression', 'Decision Tree'] [0.6927323804737174, 0.6262649121836266]\n"
     ]
    }
   ],
   "source": [
    "DT = DecisionTreeClassifier(random_state=0)\n",
    "\n",
    "models = []\n",
    "models.append(('Decision Tree', DT))\n",
    "\n",
    "implement_cv(pca_data,Y,models)\n",
    "print(names,auc)"
   ]
  },
  {
   "cell_type": "markdown",
   "metadata": {},
   "source": [
    "## Ensemble methods"
   ]
  },
  {
   "cell_type": "markdown",
   "metadata": {},
   "source": [
    "### 3. Random Forest"
   ]
  },
  {
   "cell_type": "code",
   "execution_count": 39,
   "metadata": {},
   "outputs": [],
   "source": [
    "RF = RandomForestClassifier(random_state=0)\n",
    "\n",
    "models = []\n",
    "models.append(('Random Forest', RF))\n",
    "\n",
    "implement_cv(pca_data,Y,models)"
   ]
  },
  {
   "cell_type": "markdown",
   "metadata": {},
   "source": [
    "### 4. AdaBoost DT"
   ]
  },
  {
   "cell_type": "code",
   "execution_count": 40,
   "metadata": {},
   "outputs": [],
   "source": [
    "AB_DT = AdaBoostClassifier(base_estimator = DT, random_state=0)\n",
    "\n",
    "models = []\n",
    "models.append(('AB Decision Tree', DT))\n",
    "\n",
    "implement_cv(pca_data,Y,models)"
   ]
  },
  {
   "cell_type": "markdown",
   "metadata": {},
   "source": [
    "### 5. AdaBoost RF"
   ]
  },
  {
   "cell_type": "code",
   "execution_count": 41,
   "metadata": {},
   "outputs": [],
   "source": [
    "AB_RF = AdaBoostClassifier(base_estimator = RF, random_state=0)\n",
    "\n",
    "models = []\n",
    "models.append(('AB Random Forest', AB_RF))\n",
    "\n",
    "implement_cv(pca_data,Y,models)"
   ]
  },
  {
   "cell_type": "markdown",
   "metadata": {},
   "source": [
    "### 6. Gradient Boost "
   ]
  },
  {
   "cell_type": "code",
   "execution_count": 42,
   "metadata": {},
   "outputs": [],
   "source": [
    "GB = GradientBoostingClassifier(random_state=0)\n",
    "\n",
    "models = []\n",
    "models.append(('Gradient Boost', GB))\n",
    "\n",
    "implement_cv(pca_data,Y,models)"
   ]
  },
  {
   "cell_type": "markdown",
   "metadata": {},
   "source": [
    "### 7. XGBoost"
   ]
  },
  {
   "cell_type": "code",
   "execution_count": 79,
   "metadata": {},
   "outputs": [],
   "source": [
    "XGB = XGBClassifier(random_state=0)\n",
    "\n",
    "models = []\n",
    "models.append(('XGBoost', XGB))\n",
    "\n",
    "implement_cv(pca_data,Y,models)"
   ]
  },
  {
   "cell_type": "markdown",
   "metadata": {},
   "source": [
    "## Hyper Parameter Tuning - Random Search CV\n",
    "\n",
    "### Tuning Decision Tree"
   ]
  },
  {
   "cell_type": "code",
   "execution_count": 44,
   "metadata": {},
   "outputs": [
    {
     "name": "stdout",
     "output_type": "stream",
     "text": [
      "Best Parameters for Decision Tree:\n",
      " {'min_samples_split': 7, 'min_samples_leaf': 5, 'max_depth': 8, 'criterion': 'entropy'}\n"
     ]
    }
   ],
   "source": [
    "# Maximum number of levels in tree\n",
    "max_depth = np.arange(2,9,2)\n",
    "\n",
    "# Minimum number of samples required to split a node\n",
    "min_samples_split = [2,3,5,7]\n",
    "\n",
    "# Minimum number of samples required at each leaf node\n",
    "min_samples_leaf = [2, 3, 4,5]\n",
    "\n",
    "dt_params = {'max_depth': max_depth, 'min_samples_leaf': min_samples_leaf,\n",
    "             'criterion':['gini','entropy'], 'min_samples_split' : min_samples_split}\n",
    "\n",
    "dtparam, dtestimator, dtscore = random_search_cv(pca_data,Y,DT,dt_params)\n",
    "\n",
    "print('Best Parameters for Decision Tree:\\n',dtparam)"
   ]
  },
  {
   "cell_type": "markdown",
   "metadata": {},
   "source": [
    "### 7. Tuned Decision Tree"
   ]
  },
  {
   "cell_type": "code",
   "execution_count": 45,
   "metadata": {},
   "outputs": [],
   "source": [
    "models = []\n",
    "models.append(('Tuned Decision Tree', dtestimator))\n",
    "\n",
    "implement_cv(pca_data,Y,models)"
   ]
  },
  {
   "cell_type": "markdown",
   "metadata": {},
   "source": [
    "## Ensemble Models with Tuned Parameters"
   ]
  },
  {
   "cell_type": "markdown",
   "metadata": {},
   "source": [
    "### Tuning Random Forest"
   ]
  },
  {
   "cell_type": "code",
   "execution_count": 46,
   "metadata": {},
   "outputs": [
    {
     "name": "stdout",
     "output_type": "stream",
     "text": [
      "Best Parameters for Random Forest:\n",
      " {'n_estimators': 20, 'min_samples_split': 8, 'min_samples_leaf': 4, 'max_depth': 8, 'criterion': 'gini'}\n"
     ]
    }
   ],
   "source": [
    "# Number of trees in random forest\n",
    "n_estimators = [10,15,20,25]\n",
    "\n",
    "# Maximum number of levels in tree\n",
    "max_depth =  np.arange(2,9,2)\n",
    "\n",
    "# Minimum number of samples required to split a node\n",
    "min_samples_split = [2, 5, 7, 8]\n",
    "\n",
    "# Minimum number of samples required at each leaf node\n",
    "min_samples_leaf = [2, 3, 4, 5]\n",
    "\n",
    "\n",
    "rf_params = {'n_estimators': n_estimators, 'criterion':['gini','entropy'], \n",
    "             'max_depth': max_depth, 'min_samples_leaf': min_samples_leaf, 'min_samples_split': min_samples_split }\n",
    "\n",
    "rfparam, rfestimator, rfscore = random_search_cv(pca_data,Y,RF,rf_params)\n",
    "\n",
    "print('Best Parameters for Random Forest:\\n',rfparam)"
   ]
  },
  {
   "cell_type": "markdown",
   "metadata": {},
   "source": [
    "### 8. Tuned Random Forest"
   ]
  },
  {
   "cell_type": "code",
   "execution_count": 47,
   "metadata": {},
   "outputs": [],
   "source": [
    "models = []\n",
    "models.append(('Tuned Random Forest', rfestimator))\n",
    "\n",
    "implement_cv(pca_data,Y,models)"
   ]
  },
  {
   "cell_type": "markdown",
   "metadata": {},
   "source": [
    "### 9. Tuned RF with AdaBoost"
   ]
  },
  {
   "cell_type": "code",
   "execution_count": 49,
   "metadata": {},
   "outputs": [],
   "source": [
    "tuned_RF = rfestimator\n",
    "\n",
    "tuned_AB_RF = AdaBoostClassifier(base_estimator = tuned_RF, n_estimators = 15, random_state = 0)\n",
    "\n",
    "models = []\n",
    "models.append(('AdaBoost Tuned RF', tuned_AB_RF))\n",
    "\n",
    "implement_cv(pca_data,Y,models)"
   ]
  },
  {
   "cell_type": "markdown",
   "metadata": {},
   "source": [
    "### 10. Tuned DT with AdaBoost"
   ]
  },
  {
   "cell_type": "code",
   "execution_count": 50,
   "metadata": {},
   "outputs": [],
   "source": [
    "tuned_DT = dtestimator\n",
    "\n",
    "tuned_AB_DT = AdaBoostClassifier(base_estimator = tuned_DT, n_estimators = 15, random_state = 0)\n",
    "\n",
    "models = []\n",
    "models.append(('AdaBoost Tuned DT', tuned_AB_DT))\n",
    "\n",
    "implement_cv(pca_data,Y,models)"
   ]
  },
  {
   "cell_type": "markdown",
   "metadata": {},
   "source": [
    "## Model Comparison"
   ]
  },
  {
   "cell_type": "code",
   "execution_count": 84,
   "metadata": {},
   "outputs": [
    {
     "data": {
      "text/html": [
       "<div>\n",
       "<style scoped>\n",
       "    .dataframe tbody tr th:only-of-type {\n",
       "        vertical-align: middle;\n",
       "    }\n",
       "\n",
       "    .dataframe tbody tr th {\n",
       "        vertical-align: top;\n",
       "    }\n",
       "\n",
       "    .dataframe thead th {\n",
       "        text-align: right;\n",
       "    }\n",
       "</style>\n",
       "<table border=\"1\" class=\"dataframe\">\n",
       "  <thead>\n",
       "    <tr style=\"text-align: right;\">\n",
       "      <th></th>\n",
       "      <th>Model</th>\n",
       "      <th>auc_score</th>\n",
       "    </tr>\n",
       "  </thead>\n",
       "  <tbody>\n",
       "    <tr>\n",
       "      <td>0</td>\n",
       "      <td>Logistic Regression</td>\n",
       "      <td>0.692732</td>\n",
       "    </tr>\n",
       "    <tr>\n",
       "      <td>1</td>\n",
       "      <td>Decision Tree</td>\n",
       "      <td>0.626265</td>\n",
       "    </tr>\n",
       "    <tr>\n",
       "      <td>2</td>\n",
       "      <td>Random Forest</td>\n",
       "      <td>0.650015</td>\n",
       "    </tr>\n",
       "    <tr>\n",
       "      <td>3</td>\n",
       "      <td>AdaBoost Decision Tree</td>\n",
       "      <td>0.627461</td>\n",
       "    </tr>\n",
       "    <tr>\n",
       "      <td>4</td>\n",
       "      <td>AdaBoost Random Forest</td>\n",
       "      <td>0.641650</td>\n",
       "    </tr>\n",
       "    <tr>\n",
       "      <td>5</td>\n",
       "      <td>Gradient Boost</td>\n",
       "      <td>0.651290</td>\n",
       "    </tr>\n",
       "    <tr>\n",
       "      <td>6</td>\n",
       "      <td>Tuned Decision Tree</td>\n",
       "      <td>0.652460</td>\n",
       "    </tr>\n",
       "    <tr>\n",
       "      <td>7</td>\n",
       "      <td>Tuned Random Forest</td>\n",
       "      <td>0.656663</td>\n",
       "    </tr>\n",
       "    <tr>\n",
       "      <td>8</td>\n",
       "      <td>AdaBoost Tuned RF</td>\n",
       "      <td>0.661312</td>\n",
       "    </tr>\n",
       "    <tr>\n",
       "      <td>9</td>\n",
       "      <td>AdaBoost Tuned DT</td>\n",
       "      <td>0.658258</td>\n",
       "    </tr>\n",
       "    <tr>\n",
       "      <td>10</td>\n",
       "      <td>XGBoost</td>\n",
       "      <td>0.660500</td>\n",
       "    </tr>\n",
       "  </tbody>\n",
       "</table>\n",
       "</div>"
      ],
      "text/plain": [
       "                     Model  auc_score\n",
       "0      Logistic Regression   0.692732\n",
       "1            Decision Tree   0.626265\n",
       "2            Random Forest   0.650015\n",
       "3   AdaBoost Decision Tree   0.627461\n",
       "4   AdaBoost Random Forest   0.641650\n",
       "5           Gradient Boost   0.651290\n",
       "6      Tuned Decision Tree   0.652460\n",
       "7      Tuned Random Forest   0.656663\n",
       "8        AdaBoost Tuned RF   0.661312\n",
       "9        AdaBoost Tuned DT   0.658258\n",
       "10                 XGBoost   0.660500"
      ]
     },
     "execution_count": 84,
     "metadata": {},
     "output_type": "execute_result"
    }
   ],
   "source": [
    "names = ['Logistic Regression',\n",
    " 'Decision Tree',\n",
    " 'Random Forest',\n",
    " 'AdaBoost Decision Tree',\n",
    " 'AdaBoost Random Forest',\n",
    " 'Gradient Boost',\n",
    " 'Tuned Decision Tree',\n",
    " 'Tuned Random Forest',\n",
    " 'AdaBoost Tuned RF',\n",
    " 'AdaBoost Tuned DT','XGBoost']\n",
    "\n",
    "auc = [0.6927323804737174,\n",
    " 0.6262649121836266,\n",
    " 0.6500154501451564,\n",
    " 0.6274609485822513,\n",
    " 0.6416503720952582,\n",
    " 0.65129045361935,\n",
    " 0.6524598413518591,\n",
    " 0.6566629656149784,\n",
    " 0.6613121610487015,\n",
    " 0.6582582121415567,0.6605]\n",
    "\n",
    "final.update({'Model':names , 'auc_score': auc})\n",
    "pd.DataFrame(final)"
   ]
  },
  {
   "cell_type": "code",
   "execution_count": null,
   "metadata": {},
   "outputs": [],
   "source": []
  },
  {
   "cell_type": "markdown",
   "metadata": {},
   "source": [
    "## Inference: \n",
    "\n",
    "The Logistic Regression perfroms well as compared to others with an roc_auc_score of 69.27% on PCA data\n",
    "\n",
    "tuned Random forest with AdaBoost has a score 66.13%"
   ]
  },
  {
   "cell_type": "code",
   "execution_count": null,
   "metadata": {},
   "outputs": [],
   "source": []
  },
  {
   "cell_type": "markdown",
   "metadata": {},
   "source": [
    "## PART B - Applying PCA on Train and Test sets\n",
    "\n",
    "#### Custom Functions"
   ]
  },
  {
   "cell_type": "code",
   "execution_count": 58,
   "metadata": {},
   "outputs": [],
   "source": [
    "\n",
    "# function for splitting the data in train and validation set\n",
    "def perform_train_test_split(x,y):\n",
    "    return train_test_split(x, y, test_size=0.2, random_state = 0)\n",
    "\n",
    "\n",
    "# function for scaling the data\n",
    "def std_data(xtrain,xtest):\n",
    "    sc = StandardScaler()\n",
    "    scaled = sc.fit(xtrain)\n",
    "    scaled_train = sc.transform(xtrain)\n",
    "    scaled_test = sc.transform(xtest)\n",
    "    return scaled_train, scaled_test\n",
    "\n",
    "\n",
    "\n",
    "# function to Apply PCA on train and test sets\n",
    "def get_pc(train,test):\n",
    "    \n",
    "    # Perfroming the PCA\n",
    "    pca = PCA(0.95)\n",
    "    pca.fit(train)\n",
    "\n",
    "    # Apply dimensionality reduction - PCA to standardized X and get the principal components\n",
    "    pca_train = pca.transform(train)\n",
    "    pca_test = pca.transform(test)\n",
    "    \n",
    "    # explained variance in percentage i.e (4.68/45)\n",
    "    exp_var = pca.explained_variance_ratio_\n",
    "\n",
    "    exp_var = np.round(exp_var*100,decimals=1)\n",
    "\n",
    "    cum_var=np.cumsum(exp_var)\n",
    " \n",
    "    print('No. of Components: ',len(cum_var[cum_var<95]))\n",
    "    \n",
    "    return pca_train, pca_test\n",
    "\n",
    "train_score = []\n",
    "test_score = []\n",
    "names = []\n",
    "\n",
    "\n",
    "# function to get roc_auc_scores for train and test  \n",
    "def fit_predict_plot(pca_train,pca_test,y_train,y_test,models):\n",
    "    \n",
    "    for name, model in models:\n",
    "        \n",
    "        model.fit(pca_train,y_train)\n",
    "        \n",
    "        y_pred_train = model.predict(pca_train)\n",
    "        y_pred_test = model.predict(pca_test)\n",
    "        \n",
    "        probas_train = model.predict_proba(pca_train)[:,1]\n",
    "        probas_test = model.predict_proba(pca_test)[:,1]\n",
    "    \n",
    "        train_score.append(roc_auc_score(y_train,probas_train))\n",
    "        test_score.append(roc_auc_score(y_test,probas_test))\n",
    "        names.append(name)\n",
    "\n",
    "        get_metrics(y_train,y_test,y_pred_train,y_pred_test)\n",
    "        \n",
    "        plot_roc_auc_curve(probas_train,probas_test,y_train,y_test,name)\n",
    "        \n",
    "        \n",
    "        \n",
    "# function to plot the roc auc curve\n",
    "def plot_roc_auc_curve(probas_train,probas_test,y_train,y_test,name):\n",
    "    \n",
    "        fpr_train, tpr_train, thresholds_train = roc_curve(y_train,probas_train)\n",
    "\n",
    "        fpr_test, tpr_test, thresholds_test = roc_curve(y_test,probas_test)\n",
    "\n",
    "        \n",
    "        plt.plot([0, 1], [0, 1], linestyle='--', lw=2, color='r', label='Chance', alpha=.8)\n",
    "        plt.plot(fpr_train, tpr_train, color='b', \n",
    "                 label=r'Train ROC (AUC = %0.2f )' % (roc_auc_score(y_train,probas_train)),lw=2, alpha=.5)\n",
    "        plt.plot(fpr_test, tpr_test, color='g', \n",
    "                 label=r'Test ROC (AUC = %0.2f )' % (roc_auc_score(y_test,probas_test)),lw=2, alpha=.8)\n",
    "\n",
    "        plt.xlim([-0.01, 1.01])\n",
    "        plt.ylim([-0.01, 1.01])\n",
    "        plt.xlabel('False Positive Rate',fontsize=10)\n",
    "        plt.ylabel('True Positive Rate',fontsize=10)\n",
    "        plt.title('ROC of %s' % (name),fontsize=10)\n",
    "        plt.legend(loc=\"lower right\", prop={'size': 9})\n",
    "        plt.show()\n",
    "\n",
    "\n",
    "def get_metrics(y_train,y_test,y_pred_train,y_pred_test):\n",
    "        print('For Train Data:\\n')\n",
    "        print(confusion_matrix(y_train,y_pred_train))\n",
    "        print(classification_report(y_train,y_pred_train))\n",
    "        \n",
    "        print('For Test Data:\\n')\n",
    "        print(confusion_matrix(y_test,y_pred_test))\n",
    "        print(classification_report(y_test,y_pred_test))\n",
    "        \n",
    "        \n",
    "# function for finding best parameters using RandomizedSearchCV  \n",
    "def random_search_cv(x,y,model,params):\n",
    "    RS = RandomizedSearchCV(model, params, cv = 5, scoring = 'roc_auc',random_state = 0)\n",
    "    RS.fit(x,y)\n",
    "    return RS.best_params_, RS.best_estimator_, RS.best_score_\n",
    "\n",
    "\n",
    "# function for finding best parameters using GridSearchCV\n",
    "def grid_search_cv(x,y,model,params):\n",
    "    GS = GridSearchCV(model, params, cv = 5, scoring = 'roc_auc')\n",
    "    GS.fit(x,y)\n",
    "    return GS.best_params_, GS.best_estimator_, GS.best_score_\n",
    "\n",
    "\n",
    "\n",
    "# function to get roc_auc_score for each model using cross validation\n",
    "def implement(x,y,models):\n",
    "    final = {}\n",
    "    results = []\n",
    "    names = []\n",
    "    auc = []\n",
    "    for name,model in models:\n",
    "        kfold = model_selection.KFold(shuffle=True,n_splits=5,random_state=0)\n",
    "        cv_results = model_selection.cross_val_score(model,x,y,cv=kfold, scoring='roc_auc')\n",
    "        results.append((np.abs(cv_results)))\n",
    "        auc.append(np.mean(results))\n",
    "        names.append(name)\n",
    "        final.update({'Model':names , 'auc_score': auc})\n",
    "    return pd.DataFrame(final)\n",
    "\n"
   ]
  },
  {
   "cell_type": "markdown",
   "metadata": {},
   "source": [
    "## Splitting the data into train and validation sets\n"
   ]
  },
  {
   "cell_type": "code",
   "execution_count": 59,
   "metadata": {},
   "outputs": [
    {
     "name": "stdout",
     "output_type": "stream",
     "text": [
      "No. of Components:  32\n"
     ]
    }
   ],
   "source": [
    "\n",
    "X = df.drop(['class','avg_negative_polarity','min_negative_polarity','max_negative_polarity',\n",
    "             'abs_title_subjectivity','weekday_is_friday'], axis = 1 )\n",
    "\n",
    "Y = df['class']\n",
    "\n",
    "X_train, X_test, y_train, y_test = perform_train_test_split(X,Y) # split\n",
    "\n",
    "scaled_train, scaled_test = std_data(X_train,X_test)    # standardize data\n",
    "\n",
    "pca_train, pca_test = get_pc(scaled_train,scaled_test)  # apply pca"
   ]
  },
  {
   "cell_type": "markdown",
   "metadata": {},
   "source": [
    "## Initializing and Model Building"
   ]
  },
  {
   "cell_type": "markdown",
   "metadata": {},
   "source": [
    "### 1. Logistic Regression"
   ]
  },
  {
   "cell_type": "code",
   "execution_count": 60,
   "metadata": {},
   "outputs": [
    {
     "name": "stdout",
     "output_type": "stream",
     "text": [
      "For Train Data:\n",
      "\n",
      "[[10603  5424]\n",
      " [ 5875  9813]]\n",
      "              precision    recall  f1-score   support\n",
      "\n",
      "           0       0.64      0.66      0.65     16027\n",
      "           1       0.64      0.63      0.63     15688\n",
      "\n",
      "    accuracy                           0.64     31715\n",
      "   macro avg       0.64      0.64      0.64     31715\n",
      "weighted avg       0.64      0.64      0.64     31715\n",
      "\n",
      "For Test Data:\n",
      "\n",
      "[[2667 1388]\n",
      " [1486 2388]]\n",
      "              precision    recall  f1-score   support\n",
      "\n",
      "           0       0.64      0.66      0.65      4055\n",
      "           1       0.63      0.62      0.62      3874\n",
      "\n",
      "    accuracy                           0.64      7929\n",
      "   macro avg       0.64      0.64      0.64      7929\n",
      "weighted avg       0.64      0.64      0.64      7929\n",
      "\n"
     ]
    },
    {
     "data": {
      "image/png": "[encoded data removed]",
      "text/plain": [
       "<Figure size 432x288 with 1 Axes>"
      ]
     },
     "metadata": {
      "needs_background": "light"
     },
     "output_type": "display_data"
    }
   ],
   "source": [
    "LOGREG = LogisticRegression(random_state = 0, max_iter = 1000)\n",
    "\n",
    "models = []\n",
    "models.append(('Logistic Regression',LOGREG))\n",
    "\n",
    "fit_predict_plot(pca_train,pca_test,y_train,y_test,models)"
   ]
  },
  {
   "cell_type": "markdown",
   "metadata": {},
   "source": [
    "### 2. Descision Tree"
   ]
  },
  {
   "cell_type": "code",
   "execution_count": 61,
   "metadata": {},
   "outputs": [
    {
     "name": "stdout",
     "output_type": "stream",
     "text": [
      "For Train Data:\n",
      "\n",
      "[[16027     0]\n",
      " [    0 15688]]\n",
      "              precision    recall  f1-score   support\n",
      "\n",
      "           0       1.00      1.00      1.00     16027\n",
      "           1       1.00      1.00      1.00     15688\n",
      "\n",
      "    accuracy                           1.00     31715\n",
      "   macro avg       1.00      1.00      1.00     31715\n",
      "weighted avg       1.00      1.00      1.00     31715\n",
      "\n",
      "For Test Data:\n",
      "\n",
      "[[2272 1783]\n",
      " [1688 2186]]\n",
      "              precision    recall  f1-score   support\n",
      "\n",
      "           0       0.57      0.56      0.57      4055\n",
      "           1       0.55      0.56      0.56      3874\n",
      "\n",
      "    accuracy                           0.56      7929\n",
      "   macro avg       0.56      0.56      0.56      7929\n",
      "weighted avg       0.56      0.56      0.56      7929\n",
      "\n"
     ]
    },
    {
     "data": {
      "image/png": "[encoded data removed]",
      "text/plain": [
       "<Figure size 432x288 with 1 Axes>"
      ]
     },
     "metadata": {
      "needs_background": "light"
     },
     "output_type": "display_data"
    }
   ],
   "source": [
    "DT = DecisionTreeClassifier(random_state = 0)\n",
    "\n",
    "models = []\n",
    "models.append(('DT', DT))\n",
    "\n",
    "fit_predict_plot(pca_train,pca_test,y_train,y_test,models)\n"
   ]
  },
  {
   "cell_type": "markdown",
   "metadata": {},
   "source": [
    "## Ensemble Models"
   ]
  },
  {
   "cell_type": "markdown",
   "metadata": {},
   "source": [
    "### 3. Random Forest"
   ]
  },
  {
   "cell_type": "code",
   "execution_count": 62,
   "metadata": {},
   "outputs": [
    {
     "name": "stdout",
     "output_type": "stream",
     "text": [
      "For Train Data:\n",
      "\n",
      "[[16027     0]\n",
      " [    0 15688]]\n",
      "              precision    recall  f1-score   support\n",
      "\n",
      "           0       1.00      1.00      1.00     16027\n",
      "           1       1.00      1.00      1.00     15688\n",
      "\n",
      "    accuracy                           1.00     31715\n",
      "   macro avg       1.00      1.00      1.00     31715\n",
      "weighted avg       1.00      1.00      1.00     31715\n",
      "\n",
      "For Test Data:\n",
      "\n",
      "[[2687 1368]\n",
      " [1408 2466]]\n",
      "              precision    recall  f1-score   support\n",
      "\n",
      "           0       0.66      0.66      0.66      4055\n",
      "           1       0.64      0.64      0.64      3874\n",
      "\n",
      "    accuracy                           0.65      7929\n",
      "   macro avg       0.65      0.65      0.65      7929\n",
      "weighted avg       0.65      0.65      0.65      7929\n",
      "\n"
     ]
    },
    {
     "data": {
      "image/png": "[encoded data removed]",
      "text/plain": [
       "<Figure size 432x288 with 1 Axes>"
      ]
     },
     "metadata": {
      "needs_background": "light"
     },
     "output_type": "display_data"
    }
   ],
   "source": [
    "RF = RandomForestClassifier(random_state = 0)\n",
    "\n",
    "models = []\n",
    "models.append(('RF', RF))\n",
    "\n",
    "fit_predict_plot(pca_train,pca_test,y_train,y_test,models)"
   ]
  },
  {
   "cell_type": "code",
   "execution_count": null,
   "metadata": {},
   "outputs": [],
   "source": []
  },
  {
   "cell_type": "markdown",
   "metadata": {},
   "source": [
    "### 4. AdaBoost RF"
   ]
  },
  {
   "cell_type": "code",
   "execution_count": 65,
   "metadata": {},
   "outputs": [
    {
     "name": "stdout",
     "output_type": "stream",
     "text": [
      "For Train Data:\n",
      "\n",
      "[[16027     0]\n",
      " [    0 15688]]\n",
      "              precision    recall  f1-score   support\n",
      "\n",
      "           0       1.00      1.00      1.00     16027\n",
      "           1       1.00      1.00      1.00     15688\n",
      "\n",
      "    accuracy                           1.00     31715\n",
      "   macro avg       1.00      1.00      1.00     31715\n",
      "weighted avg       1.00      1.00      1.00     31715\n",
      "\n",
      "For Test Data:\n",
      "\n",
      "[[2679 1376]\n",
      " [1469 2405]]\n",
      "              precision    recall  f1-score   support\n",
      "\n",
      "           0       0.65      0.66      0.65      4055\n",
      "           1       0.64      0.62      0.63      3874\n",
      "\n",
      "    accuracy                           0.64      7929\n",
      "   macro avg       0.64      0.64      0.64      7929\n",
      "weighted avg       0.64      0.64      0.64      7929\n",
      "\n"
     ]
    },
    {
     "data": {
      "image/png": "[encoded data removed]",
      "text/plain": [
       "<Figure size 432x288 with 1 Axes>"
      ]
     },
     "metadata": {
      "needs_background": "light"
     },
     "output_type": "display_data"
    }
   ],
   "source": [
    "AB_RF = AdaBoostClassifier(base_estimator = RF, n_estimators = 20, random_state = 0)\n",
    "\n",
    "models = []\n",
    "models.append(('AB RF', AB_RF))\n",
    "\n",
    "fit_predict_plot(pca_train,pca_test,y_train,y_test,models)"
   ]
  },
  {
   "cell_type": "markdown",
   "metadata": {},
   "source": [
    "### 5. Adaboost DT"
   ]
  },
  {
   "cell_type": "code",
   "execution_count": 66,
   "metadata": {},
   "outputs": [
    {
     "name": "stdout",
     "output_type": "stream",
     "text": [
      "For Train Data:\n",
      "\n",
      "[[16027     0]\n",
      " [    0 15688]]\n",
      "              precision    recall  f1-score   support\n",
      "\n",
      "           0       1.00      1.00      1.00     16027\n",
      "           1       1.00      1.00      1.00     15688\n",
      "\n",
      "    accuracy                           1.00     31715\n",
      "   macro avg       1.00      1.00      1.00     31715\n",
      "weighted avg       1.00      1.00      1.00     31715\n",
      "\n",
      "For Test Data:\n",
      "\n",
      "[[2280 1775]\n",
      " [1697 2177]]\n",
      "              precision    recall  f1-score   support\n",
      "\n",
      "           0       0.57      0.56      0.57      4055\n",
      "           1       0.55      0.56      0.56      3874\n",
      "\n",
      "    accuracy                           0.56      7929\n",
      "   macro avg       0.56      0.56      0.56      7929\n",
      "weighted avg       0.56      0.56      0.56      7929\n",
      "\n"
     ]
    },
    {
     "data": {
      "image/png": "[encoded data removed]",
      "text/plain": [
       "<Figure size 432x288 with 1 Axes>"
      ]
     },
     "metadata": {
      "needs_background": "light"
     },
     "output_type": "display_data"
    }
   ],
   "source": [
    "AB_DT = AdaBoostClassifier(base_estimator = DT, n_estimators = 10, random_state = 0)\n",
    "\n",
    "models = []\n",
    "models.append(('AB DT', AB_DT))\n",
    "\n",
    "fit_predict_plot(pca_train,pca_test,y_train,y_test,models)"
   ]
  },
  {
   "cell_type": "markdown",
   "metadata": {},
   "source": [
    "### 6. Gradient Boost"
   ]
  },
  {
   "cell_type": "code",
   "execution_count": 67,
   "metadata": {},
   "outputs": [
    {
     "name": "stdout",
     "output_type": "stream",
     "text": [
      "For Train Data:\n",
      "\n",
      "[[10225  5802]\n",
      " [ 5779  9909]]\n",
      "              precision    recall  f1-score   support\n",
      "\n",
      "           0       0.64      0.64      0.64     16027\n",
      "           1       0.63      0.63      0.63     15688\n",
      "\n",
      "    accuracy                           0.63     31715\n",
      "   macro avg       0.63      0.63      0.63     31715\n",
      "weighted avg       0.63      0.63      0.63     31715\n",
      "\n",
      "For Test Data:\n",
      "\n",
      "[[2510 1545]\n",
      " [1484 2390]]\n",
      "              precision    recall  f1-score   support\n",
      "\n",
      "           0       0.63      0.62      0.62      4055\n",
      "           1       0.61      0.62      0.61      3874\n",
      "\n",
      "    accuracy                           0.62      7929\n",
      "   macro avg       0.62      0.62      0.62      7929\n",
      "weighted avg       0.62      0.62      0.62      7929\n",
      "\n"
     ]
    },
    {
     "data": {
      "image/png": "[encoded data removed]",
      "text/plain": [
       "<Figure size 432x288 with 1 Axes>"
      ]
     },
     "metadata": {
      "needs_background": "light"
     },
     "output_type": "display_data"
    }
   ],
   "source": [
    "GB = GradientBoostingClassifier(n_estimators = 10, random_state = 0)\n",
    "\n",
    "models = []\n",
    "models.append(('GB', GB))\n",
    "\n",
    "fit_predict_plot(pca_train,pca_test,y_train,y_test,models)"
   ]
  },
  {
   "cell_type": "markdown",
   "metadata": {},
   "source": [
    "## Hyper Parameter tuning - Randomized Search CV"
   ]
  },
  {
   "cell_type": "markdown",
   "metadata": {},
   "source": [
    "### Tuning Decision Tree"
   ]
  },
  {
   "cell_type": "code",
   "execution_count": 68,
   "metadata": {},
   "outputs": [
    {
     "name": "stdout",
     "output_type": "stream",
     "text": [
      "{'min_samples_split': 9, 'min_samples_leaf': 5, 'max_depth': 8, 'criterion': 'entropy'}\n"
     ]
    }
   ],
   "source": [
    "# Maximum number of levels in tree\n",
    "max_depth = np.arange(2,9,2)\n",
    "\n",
    "# Minimum number of samples required to split a node\n",
    "min_samples_split = [2, 5, 8, 9]\n",
    "\n",
    "# Minimum number of samples required at each leaf node\n",
    "min_samples_leaf = [2, 3, 4,5]\n",
    "\n",
    "dt_params = {'max_depth': max_depth, 'min_samples_leaf': min_samples_leaf,\n",
    "             'criterion':['gini','entropy'], 'min_samples_split' : min_samples_split}\n",
    "\n",
    "dtparam, dtestimator, dtscore = random_search_cv(pca_train,y_train,DT,dt_params)\n",
    "\n",
    "print(dtparam)"
   ]
  },
  {
   "cell_type": "markdown",
   "metadata": {},
   "source": [
    "### 7. Tuned DT"
   ]
  },
  {
   "cell_type": "code",
   "execution_count": 69,
   "metadata": {},
   "outputs": [
    {
     "name": "stdout",
     "output_type": "stream",
     "text": [
      "For Train Data:\n",
      "\n",
      "[[10531  5496]\n",
      " [ 5354 10334]]\n",
      "              precision    recall  f1-score   support\n",
      "\n",
      "           0       0.66      0.66      0.66     16027\n",
      "           1       0.65      0.66      0.66     15688\n",
      "\n",
      "    accuracy                           0.66     31715\n",
      "   macro avg       0.66      0.66      0.66     31715\n",
      "weighted avg       0.66      0.66      0.66     31715\n",
      "\n",
      "For Test Data:\n",
      "\n",
      "[[2461 1594]\n",
      " [1523 2351]]\n",
      "              precision    recall  f1-score   support\n",
      "\n",
      "           0       0.62      0.61      0.61      4055\n",
      "           1       0.60      0.61      0.60      3874\n",
      "\n",
      "    accuracy                           0.61      7929\n",
      "   macro avg       0.61      0.61      0.61      7929\n",
      "weighted avg       0.61      0.61      0.61      7929\n",
      "\n"
     ]
    },
    {
     "data": {
      "image/png": "[encoded data removed]",
      "text/plain": [
       "<Figure size 432x288 with 1 Axes>"
      ]
     },
     "metadata": {
      "needs_background": "light"
     },
     "output_type": "display_data"
    }
   ],
   "source": [
    "models = []\n",
    "models.append(('Tuned DT', dtestimator))\n",
    "\n",
    "fit_predict_plot(pca_train,pca_test,y_train,y_test,models)"
   ]
  },
  {
   "cell_type": "markdown",
   "metadata": {},
   "source": [
    "## Ensemble Models with tuned parameters"
   ]
  },
  {
   "cell_type": "markdown",
   "metadata": {},
   "source": [
    "### Tuning Random Forest"
   ]
  },
  {
   "cell_type": "code",
   "execution_count": 70,
   "metadata": {},
   "outputs": [
    {
     "name": "stdout",
     "output_type": "stream",
     "text": [
      "{'n_estimators': 30, 'min_samples_split': 8, 'min_samples_leaf': 4, 'max_depth': 8, 'criterion': 'gini'}\n"
     ]
    }
   ],
   "source": [
    "# Number of trees in random forest\n",
    "n_estimators = np.arange(10,40,10)\n",
    "\n",
    "# Maximum number of levels in tree\n",
    "max_depth =  np.arange(2,9,2)\n",
    "#[int(x) for x in np.linspace(3, 30, num = 11)]\n",
    "#max_depth.append(None)\n",
    "\n",
    "# Minimum number of samples required to split a node\n",
    "min_samples_split = [2, 5, 8, 9]\n",
    "\n",
    "# Minimum number of samples required at each leaf node\n",
    "min_samples_leaf = [2, 3, 4, 5]\n",
    "\n",
    "\n",
    "rf_params = {'n_estimators': n_estimators, 'criterion':['gini','entropy'], \n",
    "             'max_depth': max_depth, 'min_samples_leaf': min_samples_leaf, 'min_samples_split': min_samples_split }\n",
    "\n",
    "rfparam, rfestimator, rfscore = random_search_cv(pca_train,y_train,RF,rf_params)\n",
    "\n",
    "print(rfparam)"
   ]
  },
  {
   "cell_type": "markdown",
   "metadata": {},
   "source": [
    "### 8. Tuned Random Forest"
   ]
  },
  {
   "cell_type": "code",
   "execution_count": 71,
   "metadata": {},
   "outputs": [
    {
     "name": "stdout",
     "output_type": "stream",
     "text": [
      "For Train Data:\n",
      "\n",
      "[[11521  4506]\n",
      " [ 5157 10531]]\n",
      "              precision    recall  f1-score   support\n",
      "\n",
      "           0       0.69      0.72      0.70     16027\n",
      "           1       0.70      0.67      0.69     15688\n",
      "\n",
      "    accuracy                           0.70     31715\n",
      "   macro avg       0.70      0.70      0.70     31715\n",
      "weighted avg       0.70      0.70      0.70     31715\n",
      "\n",
      "For Test Data:\n",
      "\n",
      "[[2682 1373]\n",
      " [1488 2386]]\n",
      "              precision    recall  f1-score   support\n",
      "\n",
      "           0       0.64      0.66      0.65      4055\n",
      "           1       0.63      0.62      0.63      3874\n",
      "\n",
      "    accuracy                           0.64      7929\n",
      "   macro avg       0.64      0.64      0.64      7929\n",
      "weighted avg       0.64      0.64      0.64      7929\n",
      "\n"
     ]
    },
    {
     "data": {
      "image/png": "[encoded data removed]",
      "text/plain": [
       "<Figure size 432x288 with 1 Axes>"
      ]
     },
     "metadata": {
      "needs_background": "light"
     },
     "output_type": "display_data"
    }
   ],
   "source": [
    "models = []\n",
    "models.append(('Tuned RF', rfestimator))\n",
    "\n",
    "fit_predict_plot(pca_train,pca_test,y_train,y_test,models)"
   ]
  },
  {
   "cell_type": "markdown",
   "metadata": {},
   "source": [
    "### 9. AdaBoost Tuned RF "
   ]
  },
  {
   "cell_type": "code",
   "execution_count": 72,
   "metadata": {},
   "outputs": [
    {
     "name": "stdout",
     "output_type": "stream",
     "text": [
      "For Train Data:\n",
      "\n",
      "[[13634  2393]\n",
      " [ 3290 12398]]\n",
      "              precision    recall  f1-score   support\n",
      "\n",
      "           0       0.81      0.85      0.83     16027\n",
      "           1       0.84      0.79      0.81     15688\n",
      "\n",
      "    accuracy                           0.82     31715\n",
      "   macro avg       0.82      0.82      0.82     31715\n",
      "weighted avg       0.82      0.82      0.82     31715\n",
      "\n",
      "For Test Data:\n",
      "\n",
      "[[2702 1353]\n",
      " [1410 2464]]\n",
      "              precision    recall  f1-score   support\n",
      "\n",
      "           0       0.66      0.67      0.66      4055\n",
      "           1       0.65      0.64      0.64      3874\n",
      "\n",
      "    accuracy                           0.65      7929\n",
      "   macro avg       0.65      0.65      0.65      7929\n",
      "weighted avg       0.65      0.65      0.65      7929\n",
      "\n"
     ]
    },
    {
     "data": {
      "image/png": "[encoded data removed]",
      "text/plain": [
       "<Figure size 432x288 with 1 Axes>"
      ]
     },
     "metadata": {
      "needs_background": "light"
     },
     "output_type": "display_data"
    }
   ],
   "source": [
    "tuned_RF = rfestimator\n",
    "tuned_AB_RF = AdaBoostClassifier(base_estimator = tuned_RF, n_estimators = 10, random_state = 0)\n",
    "\n",
    "models = []\n",
    "models.append(('Tuned AB_RF', tuned_AB_RF))\n",
    "\n",
    "fit_predict_plot(pca_train,pca_test,y_train,y_test,models)"
   ]
  },
  {
   "cell_type": "markdown",
   "metadata": {},
   "source": [
    "### 10. AdaBoost Tuned DT"
   ]
  },
  {
   "cell_type": "code",
   "execution_count": 73,
   "metadata": {},
   "outputs": [
    {
     "name": "stdout",
     "output_type": "stream",
     "text": [
      "For Train Data:\n",
      "\n",
      "[[12507  3520]\n",
      " [ 4088 11600]]\n",
      "              precision    recall  f1-score   support\n",
      "\n",
      "           0       0.75      0.78      0.77     16027\n",
      "           1       0.77      0.74      0.75     15688\n",
      "\n",
      "    accuracy                           0.76     31715\n",
      "   macro avg       0.76      0.76      0.76     31715\n",
      "weighted avg       0.76      0.76      0.76     31715\n",
      "\n",
      "For Test Data:\n",
      "\n",
      "[[2592 1463]\n",
      " [1620 2254]]\n",
      "              precision    recall  f1-score   support\n",
      "\n",
      "           0       0.62      0.64      0.63      4055\n",
      "           1       0.61      0.58      0.59      3874\n",
      "\n",
      "    accuracy                           0.61      7929\n",
      "   macro avg       0.61      0.61      0.61      7929\n",
      "weighted avg       0.61      0.61      0.61      7929\n",
      "\n"
     ]
    },
    {
     "data": {
      "image/png": "[encoded data removed]",
      "text/plain": [
       "<Figure size 432x288 with 1 Axes>"
      ]
     },
     "metadata": {
      "needs_background": "light"
     },
     "output_type": "display_data"
    }
   ],
   "source": [
    "tuned_DT = dtestimator\n",
    "tuned_AB_DT = AdaBoostClassifier(base_estimator = tuned_DT, n_estimators = 10, random_state = 0)\n",
    "\n",
    "models = []\n",
    "models.append(('Tuned AB_DT', tuned_AB_DT))\n",
    "\n",
    "fit_predict_plot(pca_train,pca_test,y_train,y_test,models)"
   ]
  },
  {
   "cell_type": "markdown",
   "metadata": {},
   "source": [
    "## Model Comparison"
   ]
  },
  {
   "cell_type": "code",
   "execution_count": 75,
   "metadata": {},
   "outputs": [
    {
     "data": {
      "text/html": [
       "<div>\n",
       "<style scoped>\n",
       "    .dataframe tbody tr th:only-of-type {\n",
       "        vertical-align: middle;\n",
       "    }\n",
       "\n",
       "    .dataframe tbody tr th {\n",
       "        vertical-align: top;\n",
       "    }\n",
       "\n",
       "    .dataframe thead th {\n",
       "        text-align: right;\n",
       "    }\n",
       "</style>\n",
       "<table border=\"1\" class=\"dataframe\">\n",
       "  <thead>\n",
       "    <tr style=\"text-align: right;\">\n",
       "      <th></th>\n",
       "      <th>Model</th>\n",
       "      <th>train_score</th>\n",
       "      <th>test_score</th>\n",
       "    </tr>\n",
       "  </thead>\n",
       "  <tbody>\n",
       "    <tr>\n",
       "      <td>10</td>\n",
       "      <td>Tuned AB_RF</td>\n",
       "      <td>0.908579</td>\n",
       "      <td>0.706124</td>\n",
       "    </tr>\n",
       "    <tr>\n",
       "      <td>2</td>\n",
       "      <td>RF</td>\n",
       "      <td>1.000000</td>\n",
       "      <td>0.703146</td>\n",
       "    </tr>\n",
       "    <tr>\n",
       "      <td>3</td>\n",
       "      <td>AB RF</td>\n",
       "      <td>1.000000</td>\n",
       "      <td>0.699085</td>\n",
       "    </tr>\n",
       "    <tr>\n",
       "      <td>5</td>\n",
       "      <td>AB RF</td>\n",
       "      <td>1.000000</td>\n",
       "      <td>0.699085</td>\n",
       "    </tr>\n",
       "    <tr>\n",
       "      <td>0</td>\n",
       "      <td>Logistic Regression</td>\n",
       "      <td>0.694659</td>\n",
       "      <td>0.692501</td>\n",
       "    </tr>\n",
       "    <tr>\n",
       "      <td>9</td>\n",
       "      <td>Tuned RF</td>\n",
       "      <td>0.760965</td>\n",
       "      <td>0.692121</td>\n",
       "    </tr>\n",
       "    <tr>\n",
       "      <td>7</td>\n",
       "      <td>GB</td>\n",
       "      <td>0.683639</td>\n",
       "      <td>0.668582</td>\n",
       "    </tr>\n",
       "    <tr>\n",
       "      <td>8</td>\n",
       "      <td>Tuned DT</td>\n",
       "      <td>0.721169</td>\n",
       "      <td>0.656584</td>\n",
       "    </tr>\n",
       "    <tr>\n",
       "      <td>11</td>\n",
       "      <td>Tuned AB_DT</td>\n",
       "      <td>0.859071</td>\n",
       "      <td>0.634675</td>\n",
       "    </tr>\n",
       "    <tr>\n",
       "      <td>1</td>\n",
       "      <td>DT</td>\n",
       "      <td>1.000000</td>\n",
       "      <td>0.562285</td>\n",
       "    </tr>\n",
       "    <tr>\n",
       "      <td>4</td>\n",
       "      <td>AB DT</td>\n",
       "      <td>1.000000</td>\n",
       "      <td>0.562110</td>\n",
       "    </tr>\n",
       "    <tr>\n",
       "      <td>6</td>\n",
       "      <td>AB DT</td>\n",
       "      <td>1.000000</td>\n",
       "      <td>0.562110</td>\n",
       "    </tr>\n",
       "  </tbody>\n",
       "</table>\n",
       "</div>"
      ],
      "text/plain": [
       "                  Model  train_score  test_score\n",
       "10          Tuned AB_RF     0.908579    0.706124\n",
       "2                    RF     1.000000    0.703146\n",
       "3                 AB RF     1.000000    0.699085\n",
       "5                 AB RF     1.000000    0.699085\n",
       "0   Logistic Regression     0.694659    0.692501\n",
       "9              Tuned RF     0.760965    0.692121\n",
       "7                    GB     0.683639    0.668582\n",
       "8              Tuned DT     0.721169    0.656584\n",
       "11          Tuned AB_DT     0.859071    0.634675\n",
       "1                    DT     1.000000    0.562285\n",
       "4                 AB DT     1.000000    0.562110\n",
       "6                 AB DT     1.000000    0.562110"
      ]
     },
     "execution_count": 75,
     "metadata": {},
     "output_type": "execute_result"
    }
   ],
   "source": [
    "scores = pd.DataFrame({'Model': names, 'train_score': train_score, 'test_score': test_score})\n",
    "scores.sort_values(by='test_score',ascending = False)"
   ]
  },
  {
   "cell_type": "markdown",
   "metadata": {},
   "source": [
    "## Inference:\n",
    "\n",
    "Note: the data is split in the train test ratio of 80:20\n",
    "\n",
    "Base Model : Logistic Regression with score of 69.25%\n",
    "\n",
    "The Tuned Random Forest with AdaBoost performs best on test data with a roc auc score of 70.6\n",
    "\n",
    "Decision performs the worst"
   ]
  },
  {
   "cell_type": "code",
   "execution_count": null,
   "metadata": {},
   "outputs": [],
   "source": []
  },
  {
   "cell_type": "markdown",
   "metadata": {},
   "source": [
    "## Cross Validation"
   ]
  },
  {
   "cell_type": "code",
   "execution_count": 94,
   "metadata": {},
   "outputs": [
    {
     "data": {
      "text/html": [
       "<div>\n",
       "<style scoped>\n",
       "    .dataframe tbody tr th:only-of-type {\n",
       "        vertical-align: middle;\n",
       "    }\n",
       "\n",
       "    .dataframe tbody tr th {\n",
       "        vertical-align: top;\n",
       "    }\n",
       "\n",
       "    .dataframe thead th {\n",
       "        text-align: right;\n",
       "    }\n",
       "</style>\n",
       "<table border=\"1\" class=\"dataframe\">\n",
       "  <thead>\n",
       "    <tr style=\"text-align: right;\">\n",
       "      <th></th>\n",
       "      <th>Model</th>\n",
       "      <th>auc_score</th>\n",
       "    </tr>\n",
       "  </thead>\n",
       "  <tbody>\n",
       "    <tr>\n",
       "      <td>0</td>\n",
       "      <td>Tuned AdaBoost RF</td>\n",
       "      <td>0.708952</td>\n",
       "    </tr>\n",
       "  </tbody>\n",
       "</table>\n",
       "</div>"
      ],
      "text/plain": [
       "               Model  auc_score\n",
       "0  Tuned AdaBoost RF   0.708952"
      ]
     },
     "execution_count": 94,
     "metadata": {},
     "output_type": "execute_result"
    }
   ],
   "source": [
    "models = []\n",
    "#models.append(('Logistic Regression',LOGREG))\n",
    "#models.append(('Decision Tree', DT))\n",
    "#models.append(('Random Forest', RF))\n",
    "#models.append(('AdaBoost DT', AB_DT))\n",
    "#models.append(('AdaBoost RF', AB_RF))\n",
    "#models.append(('Gradient Boost', GB))\n",
    "\n",
    "#models.append(('Tuned Decision Tree', dtestimator))\n",
    "#models.append(('Tuned Random Forest', rfestimator))\n",
    "\n",
    "#models.append(('Tuned AdaBoost DT', tuned_AB_DT))\n",
    "models.append(('Tuned AdaBoost RF', tuned_AB_RF))\n",
    "\n",
    "# function call to implement the models\n",
    "implement(pca_train,y_train,models)"
   ]
  },
  {
   "cell_type": "code",
   "execution_count": null,
   "metadata": {},
   "outputs": [],
   "source": []
  }
 ],
 "metadata": {
  "kernelspec": {
   "display_name": "Python 3",
   "language": "python",
   "name": "python3"
  },
  "language_info": {
   "codemirror_mode": {
    "name": "ipython",
    "version": 3
   },
   "file_extension": ".py",
   "mimetype": "text/x-python",
   "name": "python",
   "nbconvert_exporter": "python",
   "pygments_lexer": "ipython3",
   "version": "3.7.4"
  }
 },
 "nbformat": 4,
 "nbformat_minor": 2
}
